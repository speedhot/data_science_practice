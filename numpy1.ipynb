{
 "cells": [
  {
   "cell_type": "markdown",
   "metadata": {},
   "source": [
    "# numpy-numerical python"
   ]
  },
  {
   "cell_type": "markdown",
   "metadata": {},
   "source": [
    "## numpy array"
   ]
  },
  {
   "cell_type": "code",
   "execution_count": 3,
   "metadata": {},
   "outputs": [
    {
     "name": "stdout",
     "output_type": "stream",
     "text": [
      "['ALLOW_THREADS', 'AxisError', 'BUFSIZE', 'CLIP', 'ComplexWarning', 'DataSource', 'ERR_CALL', 'ERR_DEFAULT', 'ERR_IGNORE', 'ERR_LOG', 'ERR_PRINT', 'ERR_RAISE', 'ERR_WARN', 'FLOATING_POINT_SUPPORT', 'FPE_DIVIDEBYZERO', 'FPE_INVALID', 'FPE_OVERFLOW', 'FPE_UNDERFLOW', 'False_', 'Inf', 'Infinity', 'MAXDIMS', 'MAY_SHARE_BOUNDS', 'MAY_SHARE_EXACT', 'MachAr', 'ModuleDeprecationWarning', 'NAN', 'NINF', 'NZERO', 'NaN', 'PINF', 'PZERO', 'PackageLoader', 'RAISE', 'RankWarning', 'SHIFT_DIVIDEBYZERO', 'SHIFT_INVALID', 'SHIFT_OVERFLOW', 'SHIFT_UNDERFLOW', 'ScalarType', 'Tester', 'TooHardError', 'True_', 'UFUNC_BUFSIZE_DEFAULT', 'UFUNC_PYVALS_NAME', 'VisibleDeprecationWarning', 'WRAP', '_NoValue', '__NUMPY_SETUP__', '__all__', '__builtins__', '__cached__', '__config__', '__doc__', '__file__', '__git_revision__', '__loader__', '__mkl_version__', '__name__', '__package__', '__path__', '__spec__', '__version__', '_distributor_init', '_globals', '_import_tools', '_mat', '_mklinit', 'abs', 'absolute', 'absolute_import', 'add', 'add_docstring', 'add_newdoc', 'add_newdoc_ufunc', 'add_newdocs', 'alen', 'all', 'allclose', 'alltrue', 'amax', 'amin', 'angle', 'any', 'append', 'apply_along_axis', 'apply_over_axes', 'arange', 'arccos', 'arccosh', 'arcsin', 'arcsinh', 'arctan', 'arctan2', 'arctanh', 'argmax', 'argmin', 'argpartition', 'argsort', 'argwhere', 'around', 'array', 'array2string', 'array_equal', 'array_equiv', 'array_repr', 'array_split', 'array_str', 'asanyarray', 'asarray', 'asarray_chkfinite', 'ascontiguousarray', 'asfarray', 'asfortranarray', 'asmatrix', 'asscalar', 'atleast_1d', 'atleast_2d', 'atleast_3d', 'average', 'bartlett', 'base_repr', 'binary_repr', 'bincount', 'bitwise_and', 'bitwise_not', 'bitwise_or', 'bitwise_xor', 'blackman', 'block', 'bmat', 'bool', 'bool8', 'bool_', 'broadcast', 'broadcast_arrays', 'broadcast_to', 'busday_count', 'busday_offset', 'busdaycalendar', 'byte', 'byte_bounds', 'bytes0', 'bytes_', 'c_', 'can_cast', 'cast', 'cbrt', 'cdouble', 'ceil', 'cfloat', 'char', 'character', 'chararray', 'choose', 'clip', 'clongdouble', 'clongfloat', 'column_stack', 'common_type', 'compare_chararrays', 'compat', 'complex', 'complex128', 'complex64', 'complex_', 'complexfloating', 'compress', 'concatenate', 'conj', 'conjugate', 'convolve', 'copy', 'copysign', 'copyto', 'core', 'corrcoef', 'correlate', 'cos', 'cosh', 'count_nonzero', 'cov', 'cross', 'csingle', 'ctypeslib', 'cumprod', 'cumproduct', 'cumsum', 'datetime64', 'datetime_as_string', 'datetime_data', 'deg2rad', 'degrees', 'delete', 'deprecate', 'deprecate_with_doc', 'diag', 'diag_indices', 'diag_indices_from', 'diagflat', 'diagonal', 'diff', 'digitize', 'disp', 'divide', 'division', 'divmod', 'dot', 'double', 'dsplit', 'dstack', 'dtype', 'e', 'ediff1d', 'einsum', 'einsum_path', 'emath', 'empty', 'empty_like', 'equal', 'erf', 'errstate', 'euler_gamma', 'exp', 'exp2', 'expand_dims', 'expm1', 'extract', 'eye', 'fabs', 'fastCopyAndTranspose', 'fft', 'fill_diagonal', 'find_common_type', 'finfo', 'fix', 'flatiter', 'flatnonzero', 'flexible', 'flip', 'fliplr', 'flipud', 'float', 'float16', 'float32', 'float64', 'float_', 'float_power', 'floating', 'floor', 'floor_divide', 'fmax', 'fmin', 'fmod', 'format_float_positional', 'format_float_scientific', 'format_parser', 'frexp', 'frombuffer', 'fromfile', 'fromfunction', 'fromiter', 'frompyfunc', 'fromregex', 'fromstring', 'full', 'full_like', 'fv', 'gcd', 'generic', 'genfromtxt', 'geomspace', 'get_array_wrap', 'get_include', 'get_printoptions', 'getbufsize', 'geterr', 'geterrcall', 'geterrobj', 'gradient', 'greater', 'greater_equal', 'half', 'hamming', 'hanning', 'heaviside', 'histogram', 'histogram2d', 'histogram_bin_edges', 'histogramdd', 'hsplit', 'hstack', 'hypot', 'i0', 'identity', 'iinfo', 'imag', 'in1d', 'index_exp', 'indices', 'inexact', 'inf', 'info', 'infty', 'inner', 'insert', 'int', 'int0', 'int16', 'int32', 'int64', 'int8', 'int_', 'int_asbuffer', 'intc', 'integer', 'interp', 'intersect1d', 'intp', 'invert', 'ipmt', 'irr', 'is_busday', 'isclose', 'iscomplex', 'iscomplexobj', 'isfinite', 'isfortran', 'isin', 'isinf', 'isnan', 'isnat', 'isneginf', 'isposinf', 'isreal', 'isrealobj', 'isscalar', 'issctype', 'issubclass_', 'issubdtype', 'issubsctype', 'iterable', 'ix_', 'kaiser', 'kron', 'lcm', 'ldexp', 'left_shift', 'less', 'less_equal', 'lexsort', 'lib', 'linalg', 'linspace', 'little_endian', 'load', 'loads', 'loadtxt', 'log', 'log10', 'log1p', 'log2', 'logaddexp', 'logaddexp2', 'logical_and', 'logical_not', 'logical_or', 'logical_xor', 'logspace', 'long', 'longcomplex', 'longdouble', 'longfloat', 'longlong', 'lookfor', 'ma', 'mafromtxt', 'mask_indices', 'mat', 'math', 'matmul', 'matrix', 'matrixlib', 'max', 'maximum', 'maximum_sctype', 'may_share_memory', 'mean', 'median', 'memmap', 'meshgrid', 'mgrid', 'min', 'min_scalar_type', 'minimum', 'mintypecode', 'mirr', 'mod', 'modf', 'moveaxis', 'msort', 'multiply', 'nan', 'nan_to_num', 'nanargmax', 'nanargmin', 'nancumprod', 'nancumsum', 'nanmax', 'nanmean', 'nanmedian', 'nanmin', 'nanpercentile', 'nanprod', 'nanquantile', 'nanstd', 'nansum', 'nanvar', 'nbytes', 'ndarray', 'ndenumerate', 'ndfromtxt', 'ndim', 'ndindex', 'nditer', 'negative', 'nested_iters', 'newaxis', 'nextafter', 'nonzero', 'not_equal', 'nper', 'npv', 'numarray', 'number', 'obj2sctype', 'object', 'object0', 'object_', 'ogrid', 'oldnumeric', 'ones', 'ones_like', 'outer', 'packbits', 'pad', 'partition', 'percentile', 'pi', 'piecewise', 'pkgload', 'place', 'pmt', 'poly', 'poly1d', 'polyadd', 'polyder', 'polydiv', 'polyfit', 'polyint', 'polymul', 'polynomial', 'polysub', 'polyval', 'positive', 'power', 'ppmt', 'print_function', 'printoptions', 'prod', 'product', 'promote_types', 'ptp', 'put', 'put_along_axis', 'putmask', 'pv', 'quantile', 'r_', 'rad2deg', 'radians', 'random', 'rank', 'rate', 'ravel', 'ravel_multi_index', 'real', 'real_if_close', 'rec', 'recarray', 'recfromcsv', 'recfromtxt', 'reciprocal', 'record', 'remainder', 'repeat', 'require', 'reshape', 'resize', 'result_type', 'right_shift', 'rint', 'roll', 'rollaxis', 'roots', 'rot90', 'round', 'round_', 'row_stack', 's_', 'safe_eval', 'save', 'savetxt', 'savez', 'savez_compressed', 'sctype2char', 'sctypeDict', 'sctypeNA', 'sctypes', 'searchsorted', 'select', 'set_numeric_ops', 'set_printoptions', 'set_string_function', 'setbufsize', 'setdiff1d', 'seterr', 'seterrcall', 'seterrobj', 'setxor1d', 'shape', 'shares_memory', 'short', 'show_config', 'sign', 'signbit', 'signedinteger', 'sin', 'sinc', 'single', 'singlecomplex', 'sinh', 'size', 'sometrue', 'sort', 'sort_complex', 'source', 'spacing', 'split', 'sqrt', 'square', 'squeeze', 'stack', 'std', 'str', 'str0', 'str_', 'string_', 'subtract', 'sum', 'swapaxes', 'sys', 'take', 'take_along_axis', 'tan', 'tanh', 'tensordot', 'test', 'testing', 'tile', 'timedelta64', 'trace', 'tracemalloc_domain', 'transpose', 'trapz', 'tri', 'tril', 'tril_indices', 'tril_indices_from', 'trim_zeros', 'triu', 'triu_indices', 'triu_indices_from', 'true_divide', 'trunc', 'typeDict', 'typeNA', 'typecodes', 'typename', 'ubyte', 'ufunc', 'uint', 'uint0', 'uint16', 'uint32', 'uint64', 'uint8', 'uintc', 'uintp', 'ulonglong', 'unicode', 'unicode_', 'union1d', 'unique', 'unpackbits', 'unravel_index', 'unsignedinteger', 'unwrap', 'ushort', 'vander', 'var', 'vdot', 'vectorize', 'version', 'void', 'void0', 'vsplit', 'vstack', 'warnings', 'where', 'who', 'zeros', 'zeros_like']\n"
     ]
    }
   ],
   "source": [
    "import numpy as np\n",
    "print(dir(np)) # available function \n"
   ]
  },
  {
   "cell_type": "code",
   "execution_count": 4,
   "metadata": {},
   "outputs": [
    {
     "data": {
      "text/plain": [
       "array([1, 2, 3])"
      ]
     },
     "execution_count": 4,
     "metadata": {},
     "output_type": "execute_result"
    }
   ],
   "source": [
    "import numpy as np\n",
    "np.array([1,2,3]) #1D"
   ]
  },
  {
   "cell_type": "code",
   "execution_count": 7,
   "metadata": {},
   "outputs": [
    {
     "data": {
      "text/plain": [
       "array([1.1, 2. , 3. ])"
      ]
     },
     "execution_count": 7,
     "metadata": {},
     "output_type": "execute_result"
    }
   ],
   "source": [
    "np.array([1.1,2,3]) #1D  #upcasting to float"
   ]
  },
  {
   "cell_type": "code",
   "execution_count": 2,
   "metadata": {},
   "outputs": [
    {
     "data": {
      "text/plain": [
       "array([[1.1, 2. , 3. ],\n",
       "       [2. , 3. , 6. ]])"
      ]
     },
     "execution_count": 2,
     "metadata": {},
     "output_type": "execute_result"
    }
   ],
   "source": [
    "import numpy as np\n",
    "np.array([[1.1,2,3],[2,3,6]]) #2D "
   ]
  },
  {
   "cell_type": "code",
   "execution_count": 3,
   "metadata": {},
   "outputs": [
    {
     "data": {
      "text/plain": [
       "array([[1, 2]])"
      ]
     },
     "execution_count": 3,
     "metadata": {},
     "output_type": "execute_result"
    }
   ],
   "source": [
    "np.array([1,2], ndmin=2)"
   ]
  },
  {
   "cell_type": "code",
   "execution_count": 10,
   "metadata": {},
   "outputs": [
    {
     "data": {
      "text/plain": [
       "array([1.+0.j, 2.+0.j])"
      ]
     },
     "execution_count": 10,
     "metadata": {},
     "output_type": "execute_result"
    }
   ],
   "source": [
    "np.array([1,2], dtype=complex)"
   ]
  },
  {
   "cell_type": "code",
   "execution_count": 22,
   "metadata": {},
   "outputs": [
    {
     "name": "stdout",
     "output_type": "stream",
     "text": [
      "[(1, 1.) (2, 2.)]\n"
     ]
    }
   ],
   "source": [
    "print(np.array([1,2], dtype=[('a','<i4'),('b','<f4')]))  #i4 -32 bit integer and f4----32 bit float\n"
   ]
  },
  {
   "cell_type": "code",
   "execution_count": 13,
   "metadata": {},
   "outputs": [
    {
     "data": {
      "text/plain": [
       "matrix([[1, 2],\n",
       "        [3, 4]])"
      ]
     },
     "execution_count": 13,
     "metadata": {},
     "output_type": "execute_result"
    }
   ],
   "source": [
    "#creating an array of sub classes\n",
    "np.array(np.mat('1 2; 3 4'), subok=True)"
   ]
  },
  {
   "cell_type": "markdown",
   "metadata": {},
   "source": [
    "### Data types"
   ]
  },
  {
   "cell_type": "code",
   "execution_count": 7,
   "metadata": {},
   "outputs": [
    {
     "name": "stdout",
     "output_type": "stream",
     "text": [
      "[[1 2 3]\n",
      " [4 5 6]\n",
      " [7 8 9]]\n",
      "Type/Class of this object: <class 'numpy.ndarray'>\n",
      "Here is the matrix\n",
      "----------\n",
      " [[1 2 3]\n",
      " [4 5 6]\n",
      " [7 8 9]] \n",
      "----------\n",
      "Dimension of this matrix: 2\n",
      "Size of this matrix: 9\n",
      "Shape of this matrix: (3, 3)\n",
      "Data type of this matrix: int32\n"
     ]
    }
   ],
   "source": [
    "#printing the specification of the matrix\n",
    "my_mat = [[1,2,3],[4,5,6],[7,8,9]] \n",
    "mat = np.array(my_mat)\n",
    "print(\"Type/Class of this object:\",type(mat))\n",
    "print(\"Here is the matrix\\n----------\\n\",mat,\"\\n----------\")\n",
    "print(\"Dimension of this matrix: \",mat.ndim,sep='') #ndim gives the dimensison, 2 for a mat \n",
    "print(\"Size of this matrix: \", mat.size,sep='') #size gives the total number of elements\n",
    "print(\"Shape of this matrix: \", mat.shape,sep='') #shape gives the number of elements along \n",
    "print(\"Data type of this matrix: \", mat.dtype,sep='') #dtype gives the data type contained"
   ]
  },
  {
   "cell_type": "code",
   "execution_count": 34,
   "metadata": {},
   "outputs": [
    {
     "name": "stdout",
     "output_type": "stream",
     "text": [
      "False\n",
      "[1 2 3]\n",
      "<class 'numpy.ndarray'>\n"
     ]
    },
    {
     "data": {
      "text/plain": [
       "True"
      ]
     },
     "execution_count": 34,
     "metadata": {},
     "output_type": "execute_result"
    }
   ],
   "source": [
    "# getting a vector form a list\n",
    "l=[1,2,3]\n",
    "\n",
    "import numpy as np\n",
    "print(np.asarray(l) is vec) #will return false because it a list rather than array\n",
    "vec=np.array(l)\n",
    "print(vec)\n",
    "print(type(vec))\n",
    "np.asarray(vec) is vec   # will True a array now"
   ]
  },
  {
   "cell_type": "markdown",
   "metadata": {},
   "source": [
    "### numpy.asarray"
   ]
  },
  {
   "cell_type": "code",
   "execution_count": 36,
   "metadata": {},
   "outputs": [
    {
     "name": "stdout",
     "output_type": "stream",
     "text": [
      "[1. 2.]\n"
     ]
    }
   ],
   "source": [
    "#changing type and checking it\n",
    "a=np.asarray([1,2], dtype=np.float32)\n",
    "print(a)"
   ]
  },
  {
   "cell_type": "code",
   "execution_count": 39,
   "metadata": {},
   "outputs": [
    {
     "data": {
      "text/plain": [
       "True"
      ]
     },
     "execution_count": 39,
     "metadata": {},
     "output_type": "execute_result"
    }
   ],
   "source": [
    "np.asarray(a, dtype=np.float32) is a   # will return true"
   ]
  },
  {
   "cell_type": "code",
   "execution_count": 41,
   "metadata": {},
   "outputs": [
    {
     "data": {
      "text/plain": [
       "False"
      ]
     },
     "execution_count": 41,
     "metadata": {},
     "output_type": "execute_result"
    }
   ],
   "source": [
    "np.asarray(a, dtype=np.float64) is a   # will return False"
   ]
  },
  {
   "cell_type": "code",
   "execution_count": 43,
   "metadata": {},
   "outputs": [
    {
     "data": {
      "text/plain": [
       "True"
      ]
     },
     "execution_count": 43,
     "metadata": {},
     "output_type": "execute_result"
    }
   ],
   "source": [
    "issubclass(np.matrix, np.ndarray)    #will return true"
   ]
  },
  {
   "cell_type": "code",
   "execution_count": 50,
   "metadata": {},
   "outputs": [
    {
     "name": "stdout",
     "output_type": "stream",
     "text": [
      "[[1 2]]\n"
     ]
    },
    {
     "data": {
      "text/plain": [
       "True"
      ]
     },
     "execution_count": 50,
     "metadata": {},
     "output_type": "execute_result"
    }
   ],
   "source": [
    "a=np.matrix([1,2])\n",
    "print(a)\n",
    "np.asarray(a) is a #will return false as it is matrix\n",
    "np.asanyarray(a) is a # will return true as in form of array but not actually array"
   ]
  },
  {
   "cell_type": "markdown",
   "metadata": {},
   "source": [
    "### numpy.asanyarray"
   ]
  },
  {
   "cell_type": "code",
   "execution_count": 51,
   "metadata": {},
   "outputs": [
    {
     "data": {
      "text/plain": [
       "array([1, 2])"
      ]
     },
     "execution_count": 51,
     "metadata": {},
     "output_type": "execute_result"
    }
   ],
   "source": [
    "a=[1,2]\n",
    "np.asanyarray(a)"
   ]
  },
  {
   "cell_type": "code",
   "execution_count": 52,
   "metadata": {},
   "outputs": [],
   "source": [
    "#numpy.copy"
   ]
  },
  {
   "cell_type": "code",
   "execution_count": 77,
   "metadata": {},
   "outputs": [
    {
     "name": "stdout",
     "output_type": "stream",
     "text": [
      "b: [1 2 3]\n",
      "c: [1 2 3]\n",
      "z: [1 2 3]\n"
     ]
    }
   ],
   "source": [
    "# many ways of copy\n",
    "a=np.array([1,2,3])\n",
    "b=np.array(a,copy=True) #copy to b\n",
    "print('b:',b)\n",
    "c=a  #copy to c equal to b\n",
    "print('c:',c)\n",
    "\n",
    "z=np.copy(a)   #copy c to z\n",
    "print(\"z:\",z)\n",
    "\n"
   ]
  },
  {
   "cell_type": "code",
   "execution_count": 81,
   "metadata": {},
   "outputs": [
    {
     "name": "stdout",
     "output_type": "stream",
     "text": [
      "[10  2  3]\n",
      "c: [10  2  3]\n",
      "z: [1 2 3]\n"
     ]
    }
   ],
   "source": [
    "#how c and z are different?\n",
    "#Ans: If we modify a, c changes not z\n",
    "#example modify a in above and print again\n",
    "\n",
    "a[0]=10    # i changed one element of the a , a[0] to 10 and c[0] get changed but not z\n",
    "\n",
    "print(a) #new a\n",
    "print('c:',c)\n",
    "\n",
    "\n",
    "print(\"z:\",z)\n",
    "\n",
    "#menas = create same memory references but copy create same at different location\n"
   ]
  },
  {
   "cell_type": "markdown",
   "metadata": {},
   "source": [
    "## Read data from file\n",
    "form text or binary\n",
    "Construct an array from data in a text or binary file.A highly efficient way of reading binary data with a known data-type, as well as parsing simply formatted text files. Data written using the tofile method can be read using this function."
   ]
  },
  {
   "cell_type": "code",
   "execution_count": 1,
   "metadata": {},
   "outputs": [
    {
     "data": {
      "text/plain": [
       "array([2.10883413e+214, 6.10358018e+257, 7.63594962e+218, 1.50008929e+248,\n",
       "       8.16992705e-096, 5.79980165e+063, 5.12676886e+160, 9.22930854e+242,\n",
       "       3.77663042e+209, 1.17522874e+214, 3.03667981e-152, 3.68162108e+194,\n",
       "       4.94545444e-096, 4.44003412e+078, 9.17549014e-072, 1.63402450e+078,\n",
       "       1.71878595e+161, 5.03404042e+223, 9.29450074e+242, 1.47292513e-052,\n",
       "       9.46242257e-096, 3.42657989e-062, 1.31196978e-071, 3.70087202e-245,\n",
       "       7.70751235e-043, 3.49895589e+194, 2.67451579e+092, 1.17822703e+180,\n",
       "       2.21062911e-052, 2.24564091e-057, 8.99242616e-096, 1.17941667e-095,\n",
       "       1.08394078e-042, 8.91356708e-096, 1.39838987e-076, 5.84871770e+199,\n",
       "       6.52864328e-095, 1.37682942e-094, 1.19832989e-071, 9.64361265e-048,\n",
       "       4.66063686e-062, 1.08651111e-095, 2.96620182e-260, 1.31262871e-071,\n",
       "       1.74785577e-152, 6.37105500e+160, 3.51288501e+257, 2.24750538e-057,\n",
       "       7.58792333e-096, 1.65395713e-047, 3.69161467e-057, 3.67204023e-062,\n",
       "       1.17500274e-047, 2.89755306e-057, 7.63077685e+218, 1.74528030e+194,\n",
       "       3.84444312e-096, 1.37682942e-094, 1.82850366e-076, 9.64762180e-048,\n",
       "       1.65578424e-076, 1.08669397e-095, 2.96620179e-260, 1.31262871e-071,\n",
       "       1.74785578e-152, 2.62801879e+092, 1.18744814e+190, 8.99242792e-096,\n",
       "       3.21369686e-057, 4.14419598e-038, 6.32790328e-043, 4.06565051e-086,\n",
       "       7.98456122e-072, 6.00455601e-067, 1.92692980e+161, 3.28875805e+161,\n",
       "       2.00051294e+161, 1.08614391e-095, 6.22209792e-038, 8.05251885e-096,\n",
       "       2.90891090e-033, 1.21735912e-076, 9.17549014e-072, 9.24568094e+005,\n",
       "       7.32337588e+223, 3.51288501e+257, 2.24812647e-057, 9.92876137e-096,\n",
       "       8.96611959e-067, 9.94256990e-043, 1.03305288e-047, 1.17500692e-047,\n",
       "       6.22666274e-038, 1.81270132e-152, 9.52637933e-095, 1.37682942e-094,\n",
       "       1.25492528e-071, 2.24594963e-057, 8.14894190e-043, 8.05976279e-096,\n",
       "       2.96620182e-260, 7.70751235e-043, 1.65823050e+194, 3.29095696e+161,\n",
       "       2.88223665e+214, 1.19833506e-071, 2.24688308e-057, 9.74584889e-072,\n",
       "       3.66192662e-086, 8.04332528e-096, 1.17499872e-047, 8.15588681e-043,\n",
       "       8.84658908e+247, 7.32204084e+271, 3.51288501e+257, 2.24626078e-057,\n",
       "       8.99059735e-096, 4.46290303e-033, 2.31493494e-052, 4.44094391e-038,\n",
       "       7.97920243e-072, 6.00455601e-067, 1.65394937e+194, 6.37105470e+160,\n",
       "       1.18744818e+190, 1.13296085e-095, 3.21369926e-057, 6.32003456e-043,\n",
       "       9.64628553e-048, 1.21735914e-076, 1.91654549e-076, 9.45696472e-096,\n",
       "       4.14412854e+199, 2.88223665e+214, 1.82850233e-076, 1.47272041e-052,\n",
       "       2.52821810e-052, 5.06867651e-086, 9.91604580e-096, 1.17500186e-047,\n",
       "       1.74349003e-076, 1.17206045e+214, 1.60358894e-094, 1.37682942e-094,\n",
       "       3.05439251e-057, 1.47210946e-052, 1.89731069e-052, 1.17941311e-095,\n",
       "       2.96620178e-260, 7.70751235e-043, 4.22460055e+261, 1.74529836e+194,\n",
       "       1.90613882e-094, 1.37682942e-094, 5.63432386e-038, 1.47312825e-052,\n",
       "       1.89732342e-052, 8.05976265e-096, 2.96620182e-260, 7.70751235e-043,\n",
       "       2.17348503e+199, 5.03959970e+223, 7.06393654e+087, 3.45751690e-062,\n",
       "       8.05426202e-096, 7.48244277e-067, 1.25624835e-071, 6.32352757e-043,\n",
       "       1.84307946e-072, 1.31262871e-071, 3.69335599e+161, 1.91610763e+214,\n",
       "       2.88223665e+214, 1.82851156e-076, 5.23360287e-067, 1.31395176e-071,\n",
       "       3.66192660e-086, 8.04336812e-096, 1.17500603e-047, 1.57076666e-076,\n",
       "       2.28522288e+161, 3.51288501e+257, 2.24719301e-057, 1.13314355e-095,\n",
       "       1.58554375e-047, 1.91487193e-076, 2.90928853e-033, 7.98694044e-072,\n",
       "       6.00455601e-067, 1.83644699e+194, 2.28755932e+199, 1.18744790e+190,\n",
       "       1.08614409e-095, 9.04576610e-043, 6.32266542e-043, 9.65163106e-048,\n",
       "       4.46701796e-086, 7.58219296e-096, 1.39838987e-076, 6.96053406e+252,\n",
       "       7.07362710e+087, 5.27575210e-067, 9.45876504e-096, 1.82851288e-076,\n",
       "       7.86202847e-067, 8.54963057e-072, 7.97810132e-072, 1.69013226e-052,\n",
       "       1.57461876e+161, 2.11730462e+214, 2.88223665e+214, 1.89731703e-052,\n",
       "       1.47190555e-052, 1.25735376e-071, 4.66652346e-086, 8.04336097e-096,\n",
       "       1.17499977e-047, 3.31033372e-033, 2.67769139e+092, 1.17822703e+180,\n",
       "       1.31191234e-047, 2.24656950e-057, 7.58792325e-096, 9.45880768e-096,\n",
       "       4.26594145e-086, 8.98669587e-096, 1.39838987e-076, 1.21767546e-152,\n",
       "       3.16695370e+281, 1.17830417e+180, 1.08518845e-071, 2.24563969e-057,\n",
       "       1.03969292e-095, 1.18033034e-095, 2.41934137e-052, 2.87382051e-057,\n",
       "       1.48676774e-076, 1.35824424e+243, 2.88223665e+214, 3.88511227e-033,\n",
       "       2.24688429e-057, 1.83220793e-076, 3.86300310e-086, 2.96620180e-260,\n",
       "       7.70751235e-043, 1.36432096e+257, 9.37434757e+252, 6.52720312e-095,\n",
       "       1.37682942e-094, 1.24342255e-047, 2.24719180e-057, 1.56941728e-076,\n",
       "       6.32089001e-043, 1.03911988e-095, 1.39838987e-076, 5.82124633e+252,\n",
       "       1.53249968e-094, 1.37682942e-094, 3.69251927e-033, 1.47190555e-052,\n",
       "       6.74062979e-067, 8.52427283e-096, 2.96620181e-260, 7.70751235e-043,\n",
       "       6.53958990e+179, 2.55469189e-152, 7.07564570e+087, 3.45751690e-062,\n",
       "       8.98693990e-096, 1.19833420e-071, 3.69701259e-033, 8.59524976e-067,\n",
       "       5.30126315e-038, 1.48676774e-076, 1.13467199e-153, 1.18744815e+190,\n",
       "       1.13277798e-095, 1.38026811e-047, 6.32528943e-043, 1.47333218e-052,\n",
       "       8.54520886e-072, 7.98694475e-072, 3.93514582e-062, 3.49039636e+194,\n",
       "       5.00881426e+223, 2.00051294e+161, 8.98876857e-096, 7.48247106e-067,\n",
       "       7.58251529e-096, 4.43979148e-038, 2.96620178e-260, 7.70751235e-043,\n",
       "       1.74948071e+194, 2.77700487e+180, 1.67644747e-094, 1.37682942e-094,\n",
       "       8.14889402e-043, 1.47312825e-052, 1.56942780e-076, 8.52610170e-096,\n",
       "       2.96620182e-260, 7.70751235e-043, 6.38729308e+160, 1.17049662e+214,\n",
       "       9.29450074e+242, 5.22998343e-067, 1.13277780e-095, 5.22852615e-067,\n",
       "       7.85627820e-067, 3.70087201e-245, 9.17549014e-072, 5.80201047e+063,\n",
       "       1.22502435e+161, 2.00051294e+161, 1.08632681e-095, 5.63432384e-038,\n",
       "       1.13241988e-095, 8.55072737e-072, 1.21853984e-076, 1.91654549e-076,\n",
       "       1.17996317e-095, 1.45914204e-152, 2.59458341e+161, 9.29450074e+242,\n",
       "       5.23288124e-067, 8.98876854e-096, 5.23069668e-067, 8.22718750e-067,\n",
       "       3.70088249e-245, 9.17549014e-072, 4.59492153e+092, 2.38461509e+189,\n",
       "       1.17830220e+180, 1.31191234e-047, 3.42657238e-062, 9.45876495e-096,\n",
       "       8.05064721e-096, 2.00122835e-076, 1.98779188e-052, 1.48676774e-076,\n",
       "       1.50142046e+248, 2.06997827e+161, 9.29450074e+242, 5.22998060e-067,\n",
       "       9.45876509e-096, 5.23217105e-067, 1.17886663e-095, 2.96620181e-260,\n",
       "       7.70751235e-043, 7.09025375e+160, 2.07077815e+161, 2.00051294e+161,\n",
       "       8.52242971e-096, 7.48248802e-067, 1.04043154e-095, 2.40650464e-057,\n",
       "       1.21820251e-076, 1.91654551e-076, 8.51514311e-096, 7.88954689e+053,\n",
       "       1.18744817e+190, 8.98694158e-096, 3.05439251e-057, 9.64628541e-048,\n",
       "       1.47149534e-052, 1.21870854e-076, 1.91654552e-076, 8.04697548e-096,\n",
       "       2.67075318e-152, 1.17830813e+180, 4.41776238e-062, 2.24781410e-057,\n",
       "       1.03914427e-095, 8.53160916e-096, 6.51594914e-038, 3.66682881e-033,\n",
       "       1.48676774e-076, 2.65660915e+092, 4.04206139e+087, 3.51288501e+257,\n",
       "       3.42704345e-062, 9.92693267e-096, 9.94259032e-043, 1.19833160e-071,\n",
       "       4.43979373e-038, 7.97700452e-072, 6.00455601e-067, 4.76703999e+160,\n",
       "       1.17829136e+180, 5.34074700e-038, 3.42894256e-062, 7.58792339e-096,\n",
       "       8.04698965e-096, 1.51711786e-047, 1.13418213e-071, 1.48676774e-076,\n",
       "       1.02251041e+277, 2.16788806e+233, 3.37489452e+063, 7.06974194e+087,\n",
       "       3.45751690e-062, 1.17959458e-095, 5.34046817e-038, 4.75957275e-038,\n",
       "       9.64628545e-048, 5.18780749e-058, 1.31262871e-071, 4.86365008e+199,\n",
       "       2.58800171e+161, 9.29450074e+242, 5.22852886e-067, 1.13296069e-095,\n",
       "       7.98584439e-072, 1.36856603e-071, 3.70089646e-245, 9.17549014e-072,\n",
       "       4.80129922e+039, 2.57464324e+161, 1.69372948e+190, 2.88223665e+214,\n",
       "       3.21369926e-057, 5.23432449e-067, 1.31451183e-047, 4.86681450e-086,\n",
       "       1.21820250e-076, 2.00290718e-076, 8.51520740e-096, 4.85406362e-153,\n",
       "       1.70611897e+045, 1.17825956e+180, 6.74097042e-067, 3.42609575e-062,\n",
       "       8.98693990e-096, 1.08669610e-095, 1.25493048e-071, 2.09219676e-052,\n",
       "       1.48676774e-076, 5.52772165e+257, 3.56829261e+161, 8.79346125e+199,\n",
       "       9.29450074e+242, 5.23215679e-067, 8.05426205e-096, 5.22853181e-067,\n",
       "       5.63662872e-038, 3.92970759e-245, 9.17549014e-072, 1.35144632e+054,\n",
       "       2.61513121e+209, 3.27645398e+233, 2.88223665e+214, 1.19833160e-071,\n",
       "       3.49992925e-033, 7.58068651e-096, 1.57671905e-052, 2.96659874e-260,\n",
       "       7.70751235e-043, 2.99750350e+218, 1.17829134e+180, 8.14933319e-043,\n",
       "       2.24563483e-057, 1.17996032e-095, 1.03896566e-095, 6.51595806e-038,\n",
       "       5.88901035e-038, 1.48676774e-076, 1.13467199e-153, 6.37109779e+160,\n",
       "       2.88223665e+214, 8.59731640e-043, 8.14890092e-043, 9.93431901e-096,\n",
       "       4.43978924e-038, 7.98250654e-072, 1.91654553e-076, 1.08632964e-095,\n",
       "       3.51850138e+010, 9.88048245e-095, 1.37682942e-094, 9.71943078e-072,\n",
       "       3.42704345e-062, 7.70048547e-043, 8.99061161e-096, 2.96659875e-260,\n",
       "       7.70751235e-043, 5.33218132e+232, 1.63468044e+161, 1.18744815e+190,\n",
       "       8.05060631e-096, 7.11155604e-067, 9.64361265e-048, 2.24657681e-057,\n",
       "       4.46623246e-086, 8.05584694e-096, 1.39838987e-076, 1.71467771e+161,\n",
       "       1.18744818e+190, 8.98877036e-096, 1.08614393e-095, 9.49413371e-043,\n",
       "       2.00171554e-052, 2.40681579e-057, 7.97921970e-072, 3.93514582e-062,\n",
       "       2.77907242e+180, 7.70202016e+218, 9.29450074e+242, 6.32528943e-043,\n",
       "       2.24594963e-057, 1.56941861e-076, 9.91963198e-096, 2.96699571e-260,\n",
       "       7.70751235e-043, 1.50087695e+247, 1.87915742e+219, 2.88223665e+214,\n",
       "       1.17500291e-047, 2.24750416e-057, 2.00578586e-052, 3.45927925e-086,\n",
       "       9.91601006e-096, 1.17500187e-047, 3.69551971e-033, 1.69523607e-152,\n",
       "       7.07564570e+087, 1.48499220e-052, 2.24656950e-057, 1.13314356e-095,\n",
       "       1.03987934e-095, 6.22208000e-038, 2.19660164e-052, 1.48676774e-076,\n",
       "       1.41701004e+195, 3.27645398e+233, 2.88223665e+214, 1.47513967e+011,\n",
       "       9.25984586e+005, 1.31344279e-047, 3.85986122e-086, 1.43956484e-047,\n",
       "       1.48676774e-076, 1.41701895e+195, 9.29658360e+242, 9.29450074e+242,\n",
       "       9.45510835e-096, 6.74060151e-067, 1.18014818e-095, 4.44035873e-038,\n",
       "       3.14700995e+044])"
      ]
     },
     "execution_count": 1,
     "metadata": {},
     "output_type": "execute_result"
    }
   ],
   "source": [
    "#reading csv\n",
    "import os\n",
    "import numpy as np\n",
    "np.fromfile('E:/PHD/PML/PML with jupyter notebook/excercise/day5/example_csv/first.csv')"
   ]
  },
  {
   "cell_type": "code",
   "execution_count": 9,
   "metadata": {},
   "outputs": [
    {
     "data": {
      "text/plain": [
       "array([3.68777819e+180, 2.11833428e+161, 2.88833485e+170, 7.30567486e+265,\n",
       "       1.16097023e-028, 1.92526839e+161, 1.38497705e+219, 3.48410114e-081,\n",
       "       8.02496125e+165, 3.91667200e-109, 1.38760004e+219, 9.81303597e+242,\n",
       "       1.06239611e-153, 1.16096346e-028, 1.30424638e-142, 9.27360560e+199,\n",
       "       4.38413982e+228, 1.38497705e+219, 3.48410114e-081, 3.44620186e-085,\n",
       "       2.59027849e-144, 2.59903826e-144, 5.03285799e+223, 2.11833403e+161,\n",
       "       2.40797627e+199, 9.88885241e+165, 2.59903818e-144, 3.63515802e+228,\n",
       "       3.32304084e-027, 3.44622396e-085, 2.59027849e-144, 2.59903826e-144,\n",
       "       4.46602715e-143])"
      ]
     },
     "execution_count": 9,
     "metadata": {},
     "output_type": "execute_result"
    }
   ],
   "source": [
    "#reading text file\n",
    "np.fromfile('E:\\PHD\\PML\\PML with jupyter notebook\\excercise\\day5\\data.txt')"
   ]
  },
  {
   "cell_type": "code",
   "execution_count": 40,
   "metadata": {},
   "outputs": [
    {
     "ename": "OSError",
     "evalue": "[Errno 22] Invalid argument: '1.txt.npy'",
     "output_type": "error",
     "traceback": [
      "\u001b[1;31m---------------------------------------------------------------------------\u001b[0m",
      "\u001b[1;31mOSError\u001b[0m                                   Traceback (most recent call last)",
      "\u001b[1;32m<ipython-input-40-9af19f25d172>\u001b[0m in \u001b[0;36m<module>\u001b[1;34m()\u001b[0m\n\u001b[0;32m      2\u001b[0m \u001b[1;31m#np.save('C:/Datasets/College_Data', x)\u001b[0m\u001b[1;33m\u001b[0m\u001b[1;33m\u001b[0m\u001b[0m\n\u001b[0;32m      3\u001b[0m \u001b[0mx\u001b[0m\u001b[1;33m=\u001b[0m\u001b[0mnp\u001b[0m\u001b[1;33m.\u001b[0m\u001b[0marray\u001b[0m\u001b[1;33m(\u001b[0m\u001b[1;33m[\u001b[0m\u001b[1;36m1\u001b[0m\u001b[1;33m,\u001b[0m\u001b[1;36m2\u001b[0m\u001b[1;33m,\u001b[0m\u001b[1;36m5\u001b[0m\u001b[1;33m]\u001b[0m\u001b[1;33m,\u001b[0m \u001b[0mdtype\u001b[0m\u001b[1;33m=\u001b[0m\u001b[0mnp\u001b[0m\u001b[1;33m.\u001b[0m\u001b[0mint32\u001b[0m\u001b[1;33m)\u001b[0m\u001b[1;33m\u001b[0m\u001b[0m\n\u001b[1;32m----> 4\u001b[1;33m \u001b[0mnp\u001b[0m\u001b[1;33m.\u001b[0m\u001b[0msave\u001b[0m\u001b[1;33m(\u001b[0m\u001b[1;34m'1.txt'\u001b[0m\u001b[1;33m,\u001b[0m \u001b[0mx\u001b[0m\u001b[1;33m)\u001b[0m\u001b[1;33m\u001b[0m\u001b[0m\n\u001b[0m",
      "\u001b[1;32mC:\\ProgramData\\Anaconda3\\lib\\site-packages\\numpy\\lib\\npyio.py\u001b[0m in \u001b[0;36msave\u001b[1;34m(file, arr, allow_pickle, fix_imports)\u001b[0m\n\u001b[0;32m    500\u001b[0m         \u001b[1;32mif\u001b[0m \u001b[1;32mnot\u001b[0m \u001b[0mfile\u001b[0m\u001b[1;33m.\u001b[0m\u001b[0mendswith\u001b[0m\u001b[1;33m(\u001b[0m\u001b[1;34m'.npy'\u001b[0m\u001b[1;33m)\u001b[0m\u001b[1;33m:\u001b[0m\u001b[1;33m\u001b[0m\u001b[0m\n\u001b[0;32m    501\u001b[0m             \u001b[0mfile\u001b[0m \u001b[1;33m=\u001b[0m \u001b[0mfile\u001b[0m \u001b[1;33m+\u001b[0m \u001b[1;34m'.npy'\u001b[0m\u001b[1;33m\u001b[0m\u001b[0m\n\u001b[1;32m--> 502\u001b[1;33m         \u001b[0mfid\u001b[0m \u001b[1;33m=\u001b[0m \u001b[0mopen\u001b[0m\u001b[1;33m(\u001b[0m\u001b[0mfile\u001b[0m\u001b[1;33m,\u001b[0m \u001b[1;34m\"wb\"\u001b[0m\u001b[1;33m)\u001b[0m\u001b[1;33m\u001b[0m\u001b[0m\n\u001b[0m\u001b[0;32m    503\u001b[0m         \u001b[0mown_fid\u001b[0m \u001b[1;33m=\u001b[0m \u001b[1;32mTrue\u001b[0m\u001b[1;33m\u001b[0m\u001b[0m\n\u001b[0;32m    504\u001b[0m     \u001b[1;32melif\u001b[0m \u001b[0mis_pathlib_path\u001b[0m\u001b[1;33m(\u001b[0m\u001b[0mfile\u001b[0m\u001b[1;33m)\u001b[0m\u001b[1;33m:\u001b[0m\u001b[1;33m\u001b[0m\u001b[0m\n",
      "\u001b[1;31mOSError\u001b[0m: [Errno 22] Invalid argument: '1.txt.npy'"
     ]
    }
   ],
   "source": [
    "# To save the data\n",
    "#np.save('C:/Datasets/College_Data', x)\n",
    "x=np.array([1,2,5], dtype=np.int32)\n",
    "np.save('1.txt', x)\n",
    "\n"
   ]
  },
  {
   "cell_type": "code",
   "execution_count": 42,
   "metadata": {},
   "outputs": [
    {
     "name": "stdout",
     "output_type": "stream",
     "text": [
      "[1 2 3]\n"
     ]
    },
    {
     "data": {
      "text/plain": [
       "array([1.87585069e-309, 1.17119999e+171, 3.21613038e-056, 8.44740097e+252,\n",
       "       2.65141232e+180, 9.92152605e+247, 2.16209968e+233, 2.34519039e-110,\n",
       "       6.01347003e-154, 6.01347002e-154, 6.01347002e-154, 6.01347002e-154,\n",
       "       6.01347002e-154, 6.01347002e-154, 6.01347002e-154, 6.55490914e-260,\n",
       "       4.24399158e-314])"
      ]
     },
     "execution_count": 42,
     "metadata": {},
     "output_type": "execute_result"
    }
   ],
   "source": [
    "#read this file\n",
    "print(np.load('1.txt.npy','r'))\n",
    "\n",
    "np.fromfile('1.txt.npy')"
   ]
  },
  {
   "cell_type": "code",
   "execution_count": null,
   "metadata": {},
   "outputs": [],
   "source": []
  },
  {
   "cell_type": "code",
   "execution_count": 41,
   "metadata": {},
   "outputs": [],
   "source": [
    "#numpy.fromfunction"
   ]
  },
  {
   "cell_type": "code",
   "execution_count": 45,
   "metadata": {},
   "outputs": [],
   "source": [
    "#lambda function"
   ]
  },
  {
   "cell_type": "code",
   "execution_count": 49,
   "metadata": {},
   "outputs": [
    {
     "data": {
      "text/plain": [
       "array([[ True, False, False],\n",
       "       [False,  True, False],\n",
       "       [False, False,  True]])"
      ]
     },
     "execution_count": 49,
     "metadata": {},
     "output_type": "execute_result"
    }
   ],
   "source": [
    "import numpy as np\n",
    "np.fromfunction(lambda i,j:i==j, (3,3), dtype=np.int)"
   ]
  },
  {
   "cell_type": "code",
   "execution_count": 51,
   "metadata": {},
   "outputs": [
    {
     "data": {
      "text/plain": [
       "array([[False,  True,  True],\n",
       "       [False, False,  True],\n",
       "       [False, False, False]])"
      ]
     },
     "execution_count": 51,
     "metadata": {},
     "output_type": "execute_result"
    }
   ],
   "source": [
    "np.fromfunction(lambda i,j:i<j,(3,3), dtype=int)"
   ]
  },
  {
   "cell_type": "code",
   "execution_count": 53,
   "metadata": {},
   "outputs": [
    {
     "data": {
      "text/plain": [
       "array([[0, 1, 2],\n",
       "       [1, 2, 3],\n",
       "       [2, 3, 4]])"
      ]
     },
     "execution_count": 53,
     "metadata": {},
     "output_type": "execute_result"
    }
   ],
   "source": [
    "np.fromfunction(lambda i,j:i+j,(3,3), dtype=int)"
   ]
  },
  {
   "cell_type": "code",
   "execution_count": 4,
   "metadata": {},
   "outputs": [
    {
     "data": {
      "text/plain": [
       "array([ 0.,  1.,  4.,  9., 16.])"
      ]
     },
     "execution_count": 4,
     "metadata": {},
     "output_type": "execute_result"
    }
   ],
   "source": [
    "#creating 1-D array by iterable object\n",
    "import numpy as np\n",
    "iterable=(x*x for x in range(5))\n",
    "np.fromiter(iterable, float)"
   ]
  },
  {
   "cell_type": "code",
   "execution_count": 5,
   "metadata": {},
   "outputs": [
    {
     "data": {
      "text/plain": [
       "array([ 0.,  0.,  2.,  6., 12., 20., 30., 42.])"
      ]
     },
     "execution_count": 5,
     "metadata": {},
     "output_type": "execute_result"
    }
   ],
   "source": [
    "#Create a new 1 dimensional array from an iterable object.\n",
    "iterable=( x*(x-1)for x in range(8))\n",
    "np.fromiter(iterable,float)"
   ]
  },
  {
   "cell_type": "code",
   "execution_count": 15,
   "metadata": {},
   "outputs": [
    {
     "name": "stdout",
     "output_type": "stream",
     "text": [
      "[1 2]\n",
      "[1]\n",
      "[]\n"
     ]
    }
   ],
   "source": [
    "#from a string\n",
    "print(np.fromstring('1 2', dtype=int, sep=' '))   #convert to 1-D array from sting and pick type is int only\n",
    "print(np.fromstring('1 aman', dtype=int, sep=' '))  #will return only the int item and covert to array\n",
    "print(np.fromstring('kumar aman', dtype=int, sep=' '))  #will return empty\n"
   ]
  },
  {
   "cell_type": "code",
   "execution_count": null,
   "metadata": {},
   "outputs": [],
   "source": []
  },
  {
   "cell_type": "code",
   "execution_count": null,
   "metadata": {},
   "outputs": [],
   "source": []
  },
  {
   "cell_type": "markdown",
   "metadata": {},
   "source": [
    "### The assignment 6 question"
   ]
  },
  {
   "cell_type": "code",
   "execution_count": 73,
   "metadata": {},
   "outputs": [
    {
     "name": "stdout",
     "output_type": "stream",
     "text": [
      "[1, 4, 9]\n",
      "[1 4 9]\n"
     ]
    },
    {
     "data": {
      "text/plain": [
       "array([1, 4, 9])"
      ]
     },
     "execution_count": 73,
     "metadata": {},
     "output_type": "execute_result"
    }
   ],
   "source": [
    "#Write a function so that the columns of the output matrix are powers of the input vector.\n",
    "#try -1\n",
    "l=[1,2,3]\n",
    "\n",
    "power1=list(x*x for x in l)\n",
    "print(power1)\n",
    "vec=np.array(power1)\n",
    "print(vec)\n",
    "np.fromiter(vec, int)"
   ]
  },
  {
   "cell_type": "code",
   "execution_count": 2,
   "metadata": {},
   "outputs": [
    {
     "ename": "NameError",
     "evalue": "name 'np' is not defined",
     "output_type": "error",
     "traceback": [
      "\u001b[1;31m---------------------------------------------------------------------------\u001b[0m",
      "\u001b[1;31mNameError\u001b[0m                                 Traceback (most recent call last)",
      "\u001b[1;32m<ipython-input-2-4900ef1ceba4>\u001b[0m in \u001b[0;36m<module>\u001b[1;34m()\u001b[0m\n\u001b[0;32m      1\u001b[0m \u001b[1;31m#try -2\u001b[0m\u001b[1;33m\u001b[0m\u001b[1;33m\u001b[0m\u001b[0m\n\u001b[1;32m----> 2\u001b[1;33m \u001b[0mnp\u001b[0m\u001b[1;33m.\u001b[0m\u001b[0mfromfunction\u001b[0m\u001b[1;33m(\u001b[0m\u001b[1;32mlambda\u001b[0m \u001b[0mi\u001b[0m\u001b[1;33m,\u001b[0m\u001b[0mj\u001b[0m\u001b[1;33m:\u001b[0m\u001b[1;33m(\u001b[0m\u001b[0mi\u001b[0m\u001b[1;33m+\u001b[0m\u001b[0mj\u001b[0m\u001b[1;33m)\u001b[0m\u001b[1;33m**\u001b[0m\u001b[1;36m2\u001b[0m\u001b[1;33m,\u001b[0m\u001b[1;33m(\u001b[0m\u001b[1;36m4\u001b[0m\u001b[1;33m,\u001b[0m\u001b[1;36m4\u001b[0m\u001b[1;33m)\u001b[0m\u001b[1;33m,\u001b[0m \u001b[0mdtype\u001b[0m\u001b[1;33m=\u001b[0m\u001b[0mint\u001b[0m\u001b[1;33m)\u001b[0m\u001b[1;33m\u001b[0m\u001b[0m\n\u001b[0m",
      "\u001b[1;31mNameError\u001b[0m: name 'np' is not defined"
     ]
    }
   ],
   "source": [
    "#try -2\n",
    "np.fromfunction(lambda i,j:(i+j)**2,(4,4), dtype=int)"
   ]
  },
  {
   "cell_type": "markdown",
   "metadata": {},
   "source": [
    "### Assignment question"
   ]
  },
  {
   "cell_type": "code",
   "execution_count": null,
   "metadata": {},
   "outputs": [],
   "source": []
  },
  {
   "cell_type": "code",
   "execution_count": 16,
   "metadata": {},
   "outputs": [
    {
     "name": "stdout",
     "output_type": "stream",
     "text": [
      "[1 2 3 4 5]\n"
     ]
    },
    {
     "data": {
      "text/plain": [
       "array([[    1,     1,     1,     1,     1,     1,     1,     1],\n",
       "       [  128,    64,    32,    16,     8,     4,     2,     1],\n",
       "       [ 2187,   729,   243,    81,    27,     9,     3,     1],\n",
       "       [16384,  4096,  1024,   256,    64,    16,     4,     1],\n",
       "       [78125, 15625,  3125,   625,   125,    25,     5,     1]],\n",
       "      dtype=int32)"
      ]
     },
     "execution_count": 16,
     "metadata": {},
     "output_type": "execute_result"
    }
   ],
   "source": [
    "# Correct solution\n",
    "input_vec=np.array([1,2,3,4,5])\n",
    "print(input_vec)\n",
    "cols=8\n",
    "np.column_stack([input_vec**(cols-1-i) for i in range(cols)])"
   ]
  },
  {
   "cell_type": "markdown",
   "metadata": {},
   "source": [
    "### Load data from text"
   ]
  },
  {
   "cell_type": "code",
   "execution_count": 27,
   "metadata": {},
   "outputs": [
    {
     "name": "stdout",
     "output_type": "stream",
     "text": [
      "<_io.StringIO object at 0x000000000518ACA8>\n",
      "[[0. 1.]\n",
      " [2. 3.]]\n"
     ]
    }
   ],
   "source": [
    "#StringIO\n",
    "from io import StringIO\n",
    "c=StringIO('0 1\\n2 3')\n",
    "print(c)\n",
    "\n",
    "print(np.genfromtxt(c) )  # to generate array from string\n",
    "\n",
    "#or\n",
    "#print(np.loadtxt(c) )"
   ]
  },
  {
   "cell_type": "code",
   "execution_count": 28,
   "metadata": {},
   "outputs": [
    {
     "data": {
      "text/plain": [
       "array([[nan, 21., 72.],\n",
       "       [nan, 35., 58.]])"
      ]
     },
     "execution_count": 28,
     "metadata": {},
     "output_type": "execute_result"
    }
   ],
   "source": [
    "#more example\n",
    "d= StringIO(\"M 21 72\\nF 35 58\" )\n",
    "np.genfromtxt(d)   #bacause the data is not same type so it will put nan in place of string type data "
   ]
  },
  {
   "cell_type": "code",
   "execution_count": 31,
   "metadata": {},
   "outputs": [
    {
     "name": "stderr",
     "output_type": "stream",
     "text": [
      "C:\\ProgramData\\Anaconda3\\lib\\site-packages\\ipykernel_launcher.py:2: UserWarning: genfromtxt: Empty input file: \"<_io.StringIO object at 0x0000000005C0C678>\"\n",
      "  \n"
     ]
    },
    {
     "data": {
      "text/plain": [
       "array([], dtype=[('gender', 'S1'), ('age', '<i4'), ('weight', '<f4')])"
      ]
     },
     "execution_count": 31,
     "metadata": {},
     "output_type": "execute_result"
    }
   ],
   "source": [
    "#for the above type of conversiton we need to define our data type\n",
    "np.genfromtxt(d, dtype={'names': ('gender', 'age', 'weight'), 'formats': ('S1', 'i4', 'f4')})"
   ]
  },
  {
   "cell_type": "code",
   "execution_count": 38,
   "metadata": {},
   "outputs": [
    {
     "name": "stdout",
     "output_type": "stream",
     "text": [
      "[1. 2.]\n",
      "[3. 4.]\n"
     ]
    }
   ],
   "source": [
    "c = StringIO ( \"1,0,2\\n3,0,4\" )\n",
    "\n",
    "x, y = np.loadtxt(c, delimiter=',', usecols=(0, 2),) #it will skip the 1 cols means 0 in data\n",
    "print(x)\n",
    "print(y)"
   ]
  },
  {
   "cell_type": "code",
   "execution_count": 12,
   "metadata": {},
   "outputs": [
    {
     "name": "stdout",
     "output_type": "stream",
     "text": [
      "[(1, '3', 1.2) (2, 'abc', 2. ) (3, '5', 3. ) (4, '6', 4. )]\n"
     ]
    },
    {
     "data": {
      "text/plain": [
       "matrix([[(1, '3', 1.2), (2, 'abc', 2. ), (3, '5', 3. ), (4, '6', 4. )]],\n",
       "       dtype=(numpy.record, [('a', '<i4'), ('b', '<U11'), ('c', '<f8')]))"
      ]
     },
     "execution_count": 12,
     "metadata": {},
     "output_type": "execute_result"
    }
   ],
   "source": [
    "#creating a record from list of flat arrays\n",
    "import numpy as np\n",
    "x1=np.array([1,2,3,4])\n",
    "x2=np.array([3,'abc',5,6])\n",
    "x3=np.array([1.2,2,3,4])\n",
    "r=np.core.records.fromarrays([x1,x2,x3], names='a,b,c')\n",
    "print(r)\n",
    "np.matrix(r) #here r is the record of all above three arrays"
   ]
  },
  {
   "cell_type": "markdown",
   "metadata": {},
   "source": [
    "### arrange and lines"
   ]
  },
  {
   "cell_type": "code",
   "execution_count": 15,
   "metadata": {},
   "outputs": [
    {
     "data": {
      "text/plain": [
       "array([20, 21, 22, 23, 24, 25, 26, 27, 28, 29, 30, 31, 32, 33, 34, 35, 36,\n",
       "       37, 38, 39])"
      ]
     },
     "execution_count": 15,
     "metadata": {},
     "output_type": "execute_result"
    }
   ],
   "source": [
    "#np.arrange()\n",
    "np.arange(20,40)# A series of numbers from low to high"
   ]
  },
  {
   "cell_type": "code",
   "execution_count": 22,
   "metadata": {},
   "outputs": [
    {
     "data": {
      "text/plain": [
       "array([20. , 20.5, 21. , 21.5, 22. , 22.5, 23. , 23.5, 24. , 24.5, 25. ,\n",
       "       25.5, 26. , 26.5, 27. , 27.5, 28. , 28.5, 29. , 29.5, 30. , 30.5,\n",
       "       31. , 31.5, 32. , 32.5, 33. , 33.5, 34. , 34.5, 35. , 35.5, 36. ,\n",
       "       36.5, 37. , 37.5, 38. , 38.5, 39. , 39.5])"
      ]
     },
     "execution_count": 22,
     "metadata": {},
     "output_type": "execute_result"
    }
   ],
   "source": [
    "np.arange(20,40,5)# A series of numbers from low to high with third place given difference\n",
    "np.arange(20,40,.5)# A series of numbers from low to high"
   ]
  },
  {
   "cell_type": "code",
   "execution_count": 27,
   "metadata": {},
   "outputs": [
    {
     "name": "stdout",
     "output_type": "stream",
     "text": [
      "reverse order with gap\n"
     ]
    },
    {
     "data": {
      "text/plain": [
       "array([50, 45, 40, 35, 30, 25, 20, 15, 10,  5,  0])"
      ]
     },
     "execution_count": 27,
     "metadata": {},
     "output_type": "execute_result"
    }
   ],
   "source": [
    "#more\n",
    "print(\"reverse order with gap\")\n",
    "np.arange(50,-5,-5)"
   ]
  },
  {
   "cell_type": "code",
   "execution_count": 85,
   "metadata": {},
   "outputs": [
    {
     "data": {
      "text/plain": [
       "array([1.        , 1.18181818, 1.36363636, 1.54545455, 1.72727273,\n",
       "       1.90909091, 2.09090909, 2.27272727, 2.45454545, 2.63636364,\n",
       "       2.81818182, 3.        , 3.18181818, 3.36363636, 3.54545455,\n",
       "       3.72727273, 3.90909091, 4.09090909, 4.27272727, 4.45454545,\n",
       "       4.63636364, 4.81818182, 5.        ])"
      ]
     },
     "execution_count": 85,
     "metadata": {},
     "output_type": "execute_result"
    }
   ],
   "source": [
    "np.linspace(1,5,23) # total #23 liner spaced numbers between "
   ]
  },
  {
   "cell_type": "code",
   "execution_count": 88,
   "metadata": {},
   "outputs": [
    {
     "data": {
      "text/plain": [
       "array([2. , 2.2, 2.4, 2.6, 2.8, 3. ])"
      ]
     },
     "execution_count": 88,
     "metadata": {},
     "output_type": "execute_result"
    }
   ],
   "source": [
    "np.linspace(2,3, num=6) #can be written as"
   ]
  },
  {
   "cell_type": "code",
   "execution_count": 91,
   "metadata": {},
   "outputs": [
    {
     "data": {
      "text/plain": [
       "array([2.        , 2.16666667, 2.33333333, 2.5       , 2.66666667,\n",
       "       2.83333333])"
      ]
     },
     "execution_count": 91,
     "metadata": {},
     "output_type": "execute_result"
    }
   ],
   "source": [
    "np.linspace(2,3, num=6, endpoint=False) # it will remove the end point"
   ]
  },
  {
   "cell_type": "code",
   "execution_count": 93,
   "metadata": {},
   "outputs": [
    {
     "data": {
      "text/plain": [
       "(array([2. , 2.2, 2.4, 2.6, 2.8, 3. ]), 0.2)"
      ]
     },
     "execution_count": 93,
     "metadata": {},
     "output_type": "execute_result"
    }
   ],
   "source": [
    "np.linspace(2,3, num=6, retstep=True) #Will show you the step size also i.e interval"
   ]
  },
  {
   "cell_type": "code",
   "execution_count": 94,
   "metadata": {},
   "outputs": [
    {
     "data": {
      "text/plain": [
       "array([ 100.        ,  215.443469  ,  464.15888336, 1000.        ])"
      ]
     },
     "execution_count": 94,
     "metadata": {},
     "output_type": "execute_result"
    }
   ],
   "source": [
    "#Return numbers spaced evenly on a log scale.\n",
    "np.logspace(2.0,3.0,num=4)  # we acn use endpoint and other option here also"
   ]
  },
  {
   "cell_type": "code",
   "execution_count": 95,
   "metadata": {},
   "outputs": [
    {
     "data": {
      "text/plain": [
       "array([4.        , 5.0396842 , 6.34960421, 8.        ])"
      ]
     },
     "execution_count": 95,
     "metadata": {},
     "output_type": "execute_result"
    }
   ],
   "source": [
    "np.logspace(2.0,3.0,num=4, base=2) #on base 2"
   ]
  },
  {
   "cell_type": "markdown",
   "metadata": {},
   "source": [
    "### Matrix creation"
   ]
  },
  {
   "cell_type": "code",
   "execution_count": 30,
   "metadata": {},
   "outputs": [
    {
     "name": "stdout",
     "output_type": "stream",
     "text": [
      "Vector of Zeros\n"
     ]
    },
    {
     "data": {
      "text/plain": [
       "array([0., 0., 0., 0., 0., 0., 0., 0., 0., 0.])"
      ]
     },
     "execution_count": 30,
     "metadata": {},
     "output_type": "execute_result"
    }
   ],
   "source": [
    "print('Vector of Zeros')\n",
    "np.zeros(10)"
   ]
  },
  {
   "cell_type": "code",
   "execution_count": 37,
   "metadata": {},
   "outputs": [
    {
     "name": "stdout",
     "output_type": "stream",
     "text": [
      "Matrix of zeros\n",
      "[[0 0 0 0]\n",
      " [0 0 0 0]\n",
      " [0 0 0 0]]\n"
     ]
    },
    {
     "data": {
      "text/plain": [
       "array([[0., 0., 0., 0.],\n",
       "       [0., 0., 0., 0.],\n",
       "       [0., 0., 0., 0.]])"
      ]
     },
     "execution_count": 37,
     "metadata": {},
     "output_type": "execute_result"
    }
   ],
   "source": [
    "print('Matrix of zeros')\n",
    "print(np.zeros((3,4), dtype=int))\n",
    "np.zeros((3,4))"
   ]
  },
  {
   "cell_type": "code",
   "execution_count": 39,
   "metadata": {},
   "outputs": [
    {
     "name": "stdout",
     "output_type": "stream",
     "text": [
      "matrix of ones\n"
     ]
    },
    {
     "data": {
      "text/plain": [
       "array([[1., 1., 1.],\n",
       "       [1., 1., 1.]])"
      ]
     },
     "execution_count": 39,
     "metadata": {},
     "output_type": "execute_result"
    }
   ],
   "source": [
    "print('matrix of ones')\n",
    "\n",
    "np.ones((2,3))   #can be of given type also by dtype=type\n"
   ]
  },
  {
   "cell_type": "code",
   "execution_count": 84,
   "metadata": {},
   "outputs": [
    {
     "data": {
      "text/plain": [
       "array([[0.48430232, 0.92511232, 0.56757603],\n",
       "       [0.78706669, 0.63849107, 0.60687894],\n",
       "       [0.77775758, 0.757541  , 0.3149716 ],\n",
       "       [0.21070154, 0.5565172 , 0.65070069]])"
      ]
     },
     "execution_count": 84,
     "metadata": {},
     "output_type": "execute_result"
    }
   ],
   "source": [
    "#empty \n",
    "np.empty((3,5))\n",
    "np.empty((4,3)) # to be disscuss"
   ]
  },
  {
   "cell_type": "code",
   "execution_count": 43,
   "metadata": {},
   "outputs": [
    {
     "data": {
      "text/plain": [
       "array([[1., 0., 0., 0.],\n",
       "       [0., 1., 0., 0.],\n",
       "       [0., 0., 1., 0.],\n",
       "       [0., 0., 0., 1.]])"
      ]
     },
     "execution_count": 43,
     "metadata": {},
     "output_type": "execute_result"
    }
   ],
   "source": [
    "#identity amtrix\n",
    "np.eye(4,4)"
   ]
  },
  {
   "cell_type": "code",
   "execution_count": 45,
   "metadata": {},
   "outputs": [
    {
     "data": {
      "text/plain": [
       "array([[1, 0, 0, 0],\n",
       "       [0, 2, 0, 0],\n",
       "       [0, 0, 3, 0],\n",
       "       [0, 0, 0, 4]])"
      ]
     },
     "execution_count": 45,
     "metadata": {},
     "output_type": "execute_result"
    }
   ],
   "source": [
    "#Create a two-dimensional array with the flattened input as a diagonal.\n",
    "np.diagflat([[1,2],[3,4]])"
   ]
  },
  {
   "cell_type": "code",
   "execution_count": null,
   "metadata": {},
   "outputs": [],
   "source": []
  },
  {
   "cell_type": "markdown",
   "metadata": {},
   "source": [
    "### Random number generation"
   ]
  },
  {
   "cell_type": "code",
   "execution_count": 51,
   "metadata": {},
   "outputs": [
    {
     "data": {
      "text/plain": [
       "array([[0.48430232, 0.92511232, 0.56757603],\n",
       "       [0.78706669, 0.63849107, 0.60687894],\n",
       "       [0.77775758, 0.757541  , 0.3149716 ],\n",
       "       [0.21070154, 0.5565172 , 0.65070069]])"
      ]
     },
     "execution_count": 51,
     "metadata": {},
     "output_type": "execute_result"
    }
   ],
   "source": [
    "np.random.rand(3) #will generate an array of random number\n",
    "#matrix of random no.\n",
    "np.random.rand(4,3)    # will pic number from uniform distribution \n",
    "\n",
    "#will always provide value between 0 to 1"
   ]
  },
  {
   "cell_type": "code",
   "execution_count": 54,
   "metadata": {},
   "outputs": [
    {
     "data": {
      "text/plain": [
       "array([[ 1.25344284, -1.08279715,  0.84551495,  0.26132209,  1.37359701],\n",
       "       [ 1.1142949 ,  1.31706471, -0.18229675, -0.20245303, -0.0677896 ],\n",
       "       [ 1.1711004 ,  1.9643378 , -0.74776247, -0.36741738, -0.5614014 ],\n",
       "       [-1.16845773,  0.19438613,  0.49441323, -1.01064357, -0.27001199]])"
      ]
     },
     "execution_count": 54,
     "metadata": {},
     "output_type": "execute_result"
    }
   ],
   "source": [
    "##Numbers from Normal distribution with zero mean and standard deviation 1 i.e. from bell curv\n",
    "np.random.randn(4) #the vector\n",
    "np.random.randn(4,5) #the matrix\n",
    "\n",
    "# will give value from bell curv and provide negative value also"
   ]
  },
  {
   "cell_type": "code",
   "execution_count": 59,
   "metadata": {},
   "outputs": [
    {
     "name": "stdout",
     "output_type": "stream",
     "text": [
      "[-6.72570056  3.72265936  6.66873621 -0.08545981]\n"
     ]
    }
   ],
   "source": [
    "print(5*np.random.randn(4)) #can do multifly"
   ]
  },
  {
   "cell_type": "code",
   "execution_count": 76,
   "metadata": {},
   "outputs": [
    {
     "data": {
      "text/plain": [
       "array([38, 79, 12, 88, 59, 97, 77, 49, 10, 36, 53, 79, 98, 78, 16, 63, 30,\n",
       "        6,  6, 54, 60, 12,  4, 88, 12, 19, 95, 29, 30, 26, 55, 84, 15, 84,\n",
       "       58, 98, 94, 66, 61, 82,  4, 57, 36, 43,  2, 78, 35, 20, 47, 54])"
      ]
     },
     "execution_count": 76,
     "metadata": {},
     "output_type": "execute_result"
    }
   ],
   "source": [
    "#Random integer vector : randint (low, high, # of samples to be drawn)\n",
    "np.random.randint(1,100,50)\n"
   ]
  },
  {
   "cell_type": "code",
   "execution_count": 78,
   "metadata": {},
   "outputs": [
    {
     "name": "stdout",
     "output_type": "stream",
     "text": [
      "\n",
      "20 samples drawn from a dice throw: [3 4 1 6 4 6 3 6 2 4 3 6 3 4 2 1 5 4 1 2]\n"
     ]
    }
   ],
   "source": [
    "print(\"\\n20 samples drawn from a dice throw:\",np.random.randint(1,7,20)) # 20 samples drawn"
   ]
  },
  {
   "cell_type": "markdown",
   "metadata": {},
   "source": [
    "### Reshapping "
   ]
  },
  {
   "cell_type": "code",
   "execution_count": 166,
   "metadata": {},
   "outputs": [
    {
     "name": "stdout",
     "output_type": "stream",
     "text": [
      "a: [ 15  54 291 119  40 255 282 191 218 299 335 138 318  53  18 319 196 291\n",
      " 331  47]\n",
      "Shape of a: (20,)\n"
     ]
    }
   ],
   "source": [
    "from numpy.random import randint as ri\n",
    "a=ri(3,400,20)\n",
    "print(\"a:\",a)\n",
    "print(\"Shape of a:\",a.shape)"
   ]
  },
  {
   "cell_type": "code",
   "execution_count": 167,
   "metadata": {},
   "outputs": [
    {
     "name": "stdout",
     "output_type": "stream",
     "text": [
      "After Reshape:\n",
      " [[ 15  54 291 119  40]\n",
      " [255 282 191 218 299]\n",
      " [335 138 318  53  18]\n",
      " [319 196 291 331  47]]\n"
     ]
    }
   ],
   "source": [
    "b=a.reshape(4,5)\n",
    "print(\"After Reshape:\\n\",b)"
   ]
  },
  {
   "cell_type": "code",
   "execution_count": 170,
   "metadata": {},
   "outputs": [
    {
     "data": {
      "text/plain": [
       "array([[[ 15,  54, 291, 119,  40],\n",
       "        [255, 282, 191, 218, 299]],\n",
       "\n",
       "       [[335, 138, 318,  53,  18],\n",
       "        [319, 196, 291, 331,  47]]])"
      ]
     },
     "execution_count": 170,
     "metadata": {},
     "output_type": "execute_result"
    }
   ],
   "source": [
    "# we can reshape in chunks also\n",
    "a.reshape(2,2,5)    #will return 2 matrix of (2,5)"
   ]
  },
  {
   "cell_type": "code",
   "execution_count": 122,
   "metadata": {},
   "outputs": [
    {
     "name": "stdout",
     "output_type": "stream",
     "text": [
      "[[24 31 51 17 99]\n",
      " [63 14 67 53 13]\n",
      " [24 82 78 61 36]\n",
      " [86 87 13 31 19]\n",
      " [17 17 85 77 96]]\n"
     ]
    },
    {
     "data": {
      "text/plain": [
       "array([[17, 24, 31, 51, 99],\n",
       "       [13, 14, 53, 63, 67],\n",
       "       [24, 36, 61, 78, 82],\n",
       "       [13, 19, 31, 86, 87],\n",
       "       [17, 17, 77, 85, 96]])"
      ]
     },
     "execution_count": 122,
     "metadata": {},
     "output_type": "execute_result"
    }
   ],
   "source": [
    "m=ri(1,100,25).reshape(5,5)\n",
    "print(m)\n",
    "# sort the above matrix\n",
    "np.sort(m)"
   ]
  },
  {
   "cell_type": "code",
   "execution_count": 128,
   "metadata": {},
   "outputs": [
    {
     "name": "stdout",
     "output_type": "stream",
     "text": [
      "[0 1 2 3 4 5 6 7 8]\n",
      "[[0 1 2]\n",
      " [3 4 5]\n",
      " [6 7 8]]\n"
     ]
    },
    {
     "data": {
      "text/plain": [
       "array([[0, 1, 2],\n",
       "       [3, 4, 5],\n",
       "       [6, 7, 8]])"
      ]
     },
     "execution_count": 128,
     "metadata": {},
     "output_type": "execute_result"
    }
   ],
   "source": [
    "a=np.arange(9)\n",
    "print(a)\n",
    "print(a.reshape(3,3))\n",
    "np.sort(a.reshape(3,3))"
   ]
  },
  {
   "cell_type": "code",
   "execution_count": 132,
   "metadata": {},
   "outputs": [
    {
     "name": "stdout",
     "output_type": "stream",
     "text": [
      "[[0 0 0 0 0 0 0 0 0]\n",
      " [0 1 0 0 0 0 0 0 0]\n",
      " [0 0 2 0 0 0 0 0 0]\n",
      " [0 0 0 3 0 0 0 0 0]\n",
      " [0 0 0 0 4 0 0 0 0]\n",
      " [0 0 0 0 0 5 0 0 0]\n",
      " [0 0 0 0 0 0 6 0 0]\n",
      " [0 0 0 0 0 0 0 7 0]\n",
      " [0 0 0 0 0 0 0 0 8]]\n"
     ]
    }
   ],
   "source": [
    "z=np.diag(a) #in vec it put vector values on diagonal\n",
    "print(z)"
   ]
  },
  {
   "cell_type": "code",
   "execution_count": 133,
   "metadata": {},
   "outputs": [
    {
     "data": {
      "text/plain": [
       "array([0, 1, 2, 3, 4, 5, 6, 7, 8])"
      ]
     },
     "execution_count": 133,
     "metadata": {},
     "output_type": "execute_result"
    }
   ],
   "source": [
    "np.diag(z) #but in matrix it will return the diagnal"
   ]
  },
  {
   "cell_type": "code",
   "execution_count": 138,
   "metadata": {},
   "outputs": [
    {
     "name": "stdout",
     "output_type": "stream",
     "text": [
      "[[2 3 4]\n",
      " [3 4 5]\n",
      " [5 6 7]]\n"
     ]
    }
   ],
   "source": [
    "#exmaple over diag\n",
    "l=[[2,3,4],[3,4,5],[5,6,7]]\n",
    "m=np.matrix(l)\n",
    "print(m)"
   ]
  },
  {
   "cell_type": "code",
   "execution_count": 140,
   "metadata": {},
   "outputs": [
    {
     "data": {
      "text/plain": [
       "array([2, 4, 7])"
      ]
     },
     "execution_count": 140,
     "metadata": {},
     "output_type": "execute_result"
    }
   ],
   "source": [
    "np.diag(m) #will return dialnal elements vector"
   ]
  },
  {
   "cell_type": "code",
   "execution_count": 142,
   "metadata": {},
   "outputs": [
    {
     "data": {
      "text/plain": [
       "array([3, 5])"
      ]
     },
     "execution_count": 142,
     "metadata": {},
     "output_type": "execute_result"
    }
   ],
   "source": [
    "np.diag(m, k=1)  # the upper diagnal"
   ]
  },
  {
   "cell_type": "markdown",
   "metadata": {},
   "source": []
  },
  {
   "cell_type": "code",
   "execution_count": 147,
   "metadata": {},
   "outputs": [
    {
     "data": {
      "text/plain": [
       "array([3, 6])"
      ]
     },
     "execution_count": 147,
     "metadata": {},
     "output_type": "execute_result"
    }
   ],
   "source": [
    "np.diag(m, k=-1) #lower , k=2 the upper most and k=-2 the lower most"
   ]
  },
  {
   "cell_type": "code",
   "execution_count": 150,
   "metadata": {},
   "outputs": [
    {
     "data": {
      "text/plain": [
       "array([[2, 0, 0],\n",
       "       [0, 4, 0],\n",
       "       [0, 0, 7]])"
      ]
     },
     "execution_count": 150,
     "metadata": {},
     "output_type": "execute_result"
    }
   ],
   "source": [
    "np.diag(np.diag(m))  #again put diagnal vector in a matrix with these value in diagnal"
   ]
  },
  {
   "cell_type": "code",
   "execution_count": 153,
   "metadata": {},
   "outputs": [
    {
     "data": {
      "text/plain": [
       "array([[0, 1, 0],\n",
       "       [0, 0, 2],\n",
       "       [0, 0, 0]])"
      ]
     },
     "execution_count": 153,
     "metadata": {},
     "output_type": "execute_result"
    }
   ],
   "source": [
    "np.diag([1,2],1) # last 1 told the position ---that equal to k=1\n"
   ]
  },
  {
   "cell_type": "code",
   "execution_count": 154,
   "metadata": {},
   "outputs": [],
   "source": [
    "#many other diagnals"
   ]
  },
  {
   "cell_type": "code",
   "execution_count": 159,
   "metadata": {},
   "outputs": [
    {
     "data": {
      "text/plain": [
       "array([[1, 0, 0, 0, 0],\n",
       "       [1, 1, 0, 0, 0],\n",
       "       [1, 1, 1, 0, 0]])"
      ]
     },
     "execution_count": 159,
     "metadata": {},
     "output_type": "execute_result"
    }
   ],
   "source": [
    "np.tri(3,5,0, dtype=int)\n"
   ]
  },
  {
   "cell_type": "code",
   "execution_count": 161,
   "metadata": {},
   "outputs": [
    {
     "data": {
      "text/plain": [
       "array([[1, 1, 0, 0, 0],\n",
       "       [1, 1, 1, 0, 0],\n",
       "       [1, 1, 1, 1, 0]])"
      ]
     },
     "execution_count": 161,
     "metadata": {},
     "output_type": "execute_result"
    }
   ],
   "source": [
    "np.tri(3,5,1, dtype=int)"
   ]
  },
  {
   "cell_type": "code",
   "execution_count": 163,
   "metadata": {},
   "outputs": [
    {
     "data": {
      "text/plain": [
       "array([[1, 1, 1, 0, 0],\n",
       "       [1, 1, 1, 1, 0],\n",
       "       [1, 1, 1, 1, 1]])"
      ]
     },
     "execution_count": 163,
     "metadata": {},
     "output_type": "execute_result"
    }
   ],
   "source": [
    "np.tri(3,5,2, dtype=int)"
   ]
  },
  {
   "cell_type": "markdown",
   "metadata": {},
   "source": [
    "### Indexing and slicing"
   ]
  },
  {
   "cell_type": "code",
   "execution_count": 173,
   "metadata": {},
   "outputs": [
    {
     "name": "stdout",
     "output_type": "stream",
     "text": [
      "Array: [ 0  1  2  3  4  5  6  7  8  9 10]\n"
     ]
    }
   ],
   "source": [
    "arr=np.arange(0,11)\n",
    "print('Array:',arr)"
   ]
  },
  {
   "cell_type": "code",
   "execution_count": 179,
   "metadata": {},
   "outputs": [
    {
     "name": "stdout",
     "output_type": "stream",
     "text": [
      "Element at 7th index: 7\n",
      "[1 2 3]\n"
     ]
    }
   ],
   "source": [
    "print('Element at 7th index:',arr[7])\n",
    "print(arr[1:4])# values from idex 1 to 4"
   ]
  },
  {
   "cell_type": "code",
   "execution_count": 186,
   "metadata": {},
   "outputs": [
    {
     "name": "stdout",
     "output_type": "stream",
     "text": [
      "[10  9  8  7  6  5  4  3  2  1  0]\n"
     ]
    }
   ],
   "source": [
    "print(arr[-1::-1])  #reverse through slicing"
   ]
  },
  {
   "cell_type": "code",
   "execution_count": 187,
   "metadata": {},
   "outputs": [
    {
     "name": "stdout",
     "output_type": "stream",
     "text": [
      "[10  8  6]\n"
     ]
    }
   ],
   "source": [
    "#last thee elements\n",
    "print(arr[-1:-6:-2])   #last three with gap of two"
   ]
  },
  {
   "cell_type": "code",
   "execution_count": 196,
   "metadata": {},
   "outputs": [
    {
     "name": "stdout",
     "output_type": "stream",
     "text": [
      "original matrix:\n",
      " [[11 22 33]\n",
      " [33 55 66]\n",
      " [67 87 57]]\n",
      "Sliced matrix:\n",
      " [[11 22]\n",
      " [33 55]]\n"
     ]
    }
   ],
   "source": [
    "#slicing\n",
    "m=np.array([[11,22,33],[33,55,66],[67,87,57]])\n",
    "print(\"original matrix:\\n\",m)\n",
    "\n",
    "#now slice the matrix\n",
    "m_slice=m[:2,:2]\n",
    "print('Sliced matrix:\\n',m_slice)"
   ]
  },
  {
   "cell_type": "code",
   "execution_count": 198,
   "metadata": {},
   "outputs": [
    {
     "name": "stdout",
     "output_type": "stream",
     "text": [
      "Sliced matrix:\n",
      " [[11]]\n"
     ]
    }
   ],
   "source": [
    "m_slice=m[:-2,:-2]\n",
    "print('Sliced matrix:\\n',m_slice)"
   ]
  },
  {
   "cell_type": "code",
   "execution_count": 205,
   "metadata": {},
   "outputs": [
    {
     "name": "stdout",
     "output_type": "stream",
     "text": [
      "new m: [55 66 67 87 57]\n"
     ]
    }
   ],
   "source": [
    "m1=m[m>50]  #will make new matrix wit elements of >50 from original m\n",
    "print(\"new m:\",m1)"
   ]
  },
  {
   "cell_type": "code",
   "execution_count": 207,
   "metadata": {},
   "outputs": [
    {
     "name": "stdout",
     "output_type": "stream",
     "text": [
      "[67 87 57]\n"
     ]
    }
   ],
   "source": [
    "#return row or column only\n",
    "print(m[2]) # entrire 2nd row means 3rd as first is at index 0 "
   ]
  },
  {
   "cell_type": "code",
   "execution_count": 210,
   "metadata": {},
   "outputs": [
    {
     "name": "stdout",
     "output_type": "stream",
     "text": [
      "[33 66 57]\n"
     ]
    }
   ],
   "source": [
    "print(m[:,2]) # entrire 2nd column means 3rd as first is at index 0 "
   ]
  },
  {
   "cell_type": "code",
   "execution_count": 221,
   "metadata": {},
   "outputs": [
    {
     "name": "stdout",
     "output_type": "stream",
     "text": [
      "[[66]\n",
      " [57]]\n"
     ]
    }
   ],
   "source": [
    "#sub set matricies\n",
    "print(m[1:3, 2:5])"
   ]
  },
  {
   "cell_type": "markdown",
   "metadata": {},
   "source": [
    "### Universal Functions"
   ]
  },
  {
   "cell_type": "code",
   "execution_count": 2,
   "metadata": {},
   "outputs": [
    {
     "name": "stdout",
     "output_type": "stream",
     "text": [
      "[[ 0  1  2  3  4  5]\n",
      " [ 6  7  8  9 10 11]\n",
      " [12 13 14 15 16 17]\n",
      " [18 19 20 21 22 23]]\n",
      "[[24 25 26 27 28 29]\n",
      " [30 31 32 33 34 35]\n",
      " [36 37 38 39 40 41]\n",
      " [42 43 44 45 46 47]]\n"
     ]
    }
   ],
   "source": [
    "import  numpy as np\n",
    "m1=np.arange(0,24).reshape(4,6)\n",
    "print(m1)\n",
    "m2=np.arange(24,48).reshape(4,6)\n",
    "print(m2)"
   ]
  },
  {
   "cell_type": "code",
   "execution_count": 231,
   "metadata": {},
   "outputs": [
    {
     "name": "stdout",
     "output_type": "stream",
     "text": [
      "[[24 26 28 30 32 34]\n",
      " [36 38 40 42 44 46]\n",
      " [48 50 52 54 56 58]\n",
      " [60 62 64 66 68 70]]\n"
     ]
    }
   ],
   "source": [
    "m3=m1+m2\n",
    "print(m3)"
   ]
  },
  {
   "cell_type": "code",
   "execution_count": 3,
   "metadata": {},
   "outputs": [
    {
     "name": "stdout",
     "output_type": "stream",
     "text": [
      "[[   0   25   52   81  112  145]\n",
      " [ 180  217  256  297  340  385]\n",
      " [ 432  481  532  585  640  697]\n",
      " [ 756  817  880  945 1012 1081]]\n"
     ]
    }
   ],
   "source": [
    "m4=m1*m2\n",
    "print(m4)"
   ]
  },
  {
   "cell_type": "code",
   "execution_count": 4,
   "metadata": {},
   "outputs": [
    {
     "name": "stdout",
     "output_type": "stream",
     "text": [
      "[[1.00000000e+000 7.20048993e+010 3.83100800e+022 1.50609731e+035\n",
      "  4.37503945e+048 9.39074129e+062]\n",
      " [1.48938420e+078 1.74543055e+094 1.51142767e+111 9.67077157e+128\n",
      "  4.57218555e+147 1.59725969e+167]\n",
      " [4.12302703e+187 7.86404148e+208 1.10831796e+231 1.15417567e+254\n",
      "  8.88113390e+277 5.04956406e+302]\n",
      " [            inf             inf             inf             inf\n",
      "              inf             inf]]\n"
     ]
    }
   ],
   "source": [
    "#exponential e(2.71)\n",
    "print(np.exp(m4))  #will provide the exponential matrix (e**element) of each element "
   ]
  },
  {
   "cell_type": "code",
   "execution_count": 235,
   "metadata": {},
   "outputs": [
    {
     "name": "stdout",
     "output_type": "stream",
     "text": [
      "[[0.         0.04       0.07692308 0.11111111 0.14285714 0.17241379]\n",
      " [0.2        0.22580645 0.25       0.27272727 0.29411765 0.31428571]\n",
      " [0.33333333 0.35135135 0.36842105 0.38461538 0.4        0.41463415]\n",
      " [0.42857143 0.44186047 0.45454545 0.46666667 0.47826087 0.4893617 ]]\n"
     ]
    }
   ],
   "source": [
    "print(m1/m2)"
   ]
  },
  {
   "cell_type": "code",
   "execution_count": 5,
   "metadata": {},
   "outputs": [
    {
     "name": "stdout",
     "output_type": "stream",
     "text": [
      "[[24 24 24 24 24 24]\n",
      " [24 24 24 24 24 24]\n",
      " [24 24 24 24 24 24]\n",
      " [24 24 24 24 24 24]]\n"
     ]
    }
   ],
   "source": [
    "print(m2-m1)"
   ]
  },
  {
   "cell_type": "code",
   "execution_count": 30,
   "metadata": {},
   "outputs": [
    {
     "data": {
      "text/plain": [
       "10948"
      ]
     },
     "execution_count": 30,
     "metadata": {},
     "output_type": "execute_result"
    }
   ],
   "source": [
    "np.sum(m4) #sum of all elements of a matrix"
   ]
  },
  {
   "cell_type": "markdown",
   "metadata": {},
   "source": [
    "### some basic stats"
   ]
  },
  {
   "cell_type": "code",
   "execution_count": 11,
   "metadata": {},
   "outputs": [
    {
     "data": {
      "text/plain": [
       "array([1368, 1540, 1720, 1908, 2104, 2308])"
      ]
     },
     "execution_count": 11,
     "metadata": {},
     "output_type": "execute_result"
    }
   ],
   "source": [
    "np.sum(m4, axis=0) #sum of all corresponding columns are  zero'th row"
   ]
  },
  {
   "cell_type": "code",
   "execution_count": 12,
   "metadata": {},
   "outputs": [
    {
     "data": {
      "text/plain": [
       "array([ 415, 1675, 3367, 5491])"
      ]
     },
     "execution_count": 12,
     "metadata": {},
     "output_type": "execute_result"
    }
   ],
   "source": [
    "np.sum(m4, axis=1) #sum of each corresponding row at position column first"
   ]
  },
  {
   "cell_type": "code",
   "execution_count": 21,
   "metadata": {},
   "outputs": [
    {
     "name": "stdout",
     "output_type": "stream",
     "text": [
      "[[1 2 3]\n",
      " [4 5 6]]\n"
     ]
    },
    {
     "data": {
      "text/plain": [
       "array([ 4, 10, 18])"
      ]
     },
     "execution_count": 21,
     "metadata": {},
     "output_type": "execute_result"
    }
   ],
   "source": [
    "new=np.array([[1,2,3],[4,5,6]])\n",
    "print(new)\n",
    "np.prod(new, axis=0) #product similarly"
   ]
  },
  {
   "cell_type": "code",
   "execution_count": 26,
   "metadata": {},
   "outputs": [
    {
     "name": "stdout",
     "output_type": "stream",
     "text": [
      "21\n"
     ]
    },
    {
     "data": {
      "text/plain": [
       "3.5"
      ]
     },
     "execution_count": 26,
     "metadata": {},
     "output_type": "execute_result"
    }
   ],
   "source": [
    "print(np.sum(new))\n",
    "np.mean(new) #finding mean\n"
   ]
  },
  {
   "cell_type": "code",
   "execution_count": 27,
   "metadata": {},
   "outputs": [
    {
     "name": "stdout",
     "output_type": "stream",
     "text": [
      "3.5\n"
     ]
    }
   ],
   "source": [
    "print(np.median(new))"
   ]
  },
  {
   "cell_type": "code",
   "execution_count": 28,
   "metadata": {},
   "outputs": [
    {
     "name": "stdout",
     "output_type": "stream",
     "text": [
      "1.707825127659933\n"
     ]
    }
   ],
   "source": [
    "print(np.std(new)) #standard deviation"
   ]
  },
  {
   "cell_type": "code",
   "execution_count": 31,
   "metadata": {},
   "outputs": [
    {
     "name": "stdout",
     "output_type": "stream",
     "text": [
      "2.9166666666666665\n"
     ]
    }
   ],
   "source": [
    "print(np.var(new)) #variance of elemnts of the matrix"
   ]
  },
  {
   "cell_type": "code",
   "execution_count": 34,
   "metadata": {},
   "outputs": [
    {
     "name": "stdout",
     "output_type": "stream",
     "text": [
      "50 percentile: 3.5\n",
      "50 percentile: 5.5\n"
     ]
    }
   ],
   "source": [
    "#percentile\n",
    "print('50 percentile:',np.percentile(new,50))\n",
    "print('90 percentile:',np.percentile(new,90))"
   ]
  },
  {
   "cell_type": "code",
   "execution_count": null,
   "metadata": {},
   "outputs": [],
   "source": []
  },
  {
   "cell_type": "markdown",
   "metadata": {},
   "source": [
    "### Broadcasting"
   ]
  },
  {
   "cell_type": "code",
   "execution_count": 239,
   "metadata": {},
   "outputs": [
    {
     "name": "stdout",
     "output_type": "stream",
     "text": [
      "[[ 0  1  2  3  4  5]\n",
      " [ 6  7  8  9 10 11]\n",
      " [12 13 14 15 16 17]\n",
      " [18 19 20 21 22 23]]\n"
     ]
    }
   ],
   "source": [
    "print(m1)"
   ]
  },
  {
   "cell_type": "code",
   "execution_count": 243,
   "metadata": {},
   "outputs": [
    {
     "name": "stdout",
     "output_type": "stream",
     "text": [
      "[1 1 1 1 1 1]\n"
     ]
    }
   ],
   "source": [
    "add_row=np.array([1,1,1,1,1,1])\n",
    "print(add_row)"
   ]
  },
  {
   "cell_type": "code",
   "execution_count": 1,
   "metadata": {},
   "outputs": [
    {
     "ename": "NameError",
     "evalue": "name 'm1' is not defined",
     "output_type": "error",
     "traceback": [
      "\u001b[1;31m---------------------------------------------------------------------------\u001b[0m",
      "\u001b[1;31mNameError\u001b[0m                                 Traceback (most recent call last)",
      "\u001b[1;32m<ipython-input-1-0755fe0f4970>\u001b[0m in \u001b[0;36m<module>\u001b[1;34m()\u001b[0m\n\u001b[0;32m      1\u001b[0m \u001b[1;31m#broadcasting\u001b[0m\u001b[1;33m\u001b[0m\u001b[1;33m\u001b[0m\u001b[0m\n\u001b[1;32m----> 2\u001b[1;33m \u001b[0mprint\u001b[0m\u001b[1;33m(\u001b[0m\u001b[0mm1\u001b[0m\u001b[1;33m+\u001b[0m\u001b[0madd_row\u001b[0m\u001b[1;33m)\u001b[0m   \u001b[1;31m# adding add_row to all rows of m1\u001b[0m\u001b[1;33m\u001b[0m\u001b[0m\n\u001b[0m",
      "\u001b[1;31mNameError\u001b[0m: name 'm1' is not defined"
     ]
    }
   ],
   "source": [
    "#broadcasting\n",
    "print(m1+add_row)   # adding add_row to all rows of m1"
   ]
  },
  {
   "cell_type": "code",
   "execution_count": 8,
   "metadata": {},
   "outputs": [
    {
     "name": "stdout",
     "output_type": "stream",
     "text": [
      "(1, 3)\n",
      "(3, 1)\n",
      "[array([[1, 2, 3],\n",
      "       [1, 2, 3],\n",
      "       [1, 2, 3]]), array([[1, 1, 1],\n",
      "       [2, 2, 2],\n",
      "       [3, 3, 3]])]\n",
      "[[1 2 3]\n",
      " [1 2 3]\n",
      " [1 2 3]]\n",
      "[[1 1 1]\n",
      " [2 2 2]\n",
      " [3 3 3]]\n"
     ]
    }
   ],
   "source": [
    "import numpy as np\n",
    "a=np.array([[1,2,3]])\n",
    "b=np.array([[1],[2],[3]])\n",
    "print(np.shape(a))\n",
    "print(np.shape(b))\n",
    "new_arr=[np.array(x) for x in np.broadcast_arrays(a,b)]\n",
    "print(new_arr)\n",
    "\n",
    "# more specific\n",
    "for ar in new_arr:\n",
    "    print(ar)    # broadcast always works towards major dimention hence b=3*1 and a= 1*3   final product would be 3*3 for both row major and column major"
   ]
  },
  {
   "cell_type": "markdown",
   "metadata": {},
   "source": [
    "### Array math\n",
    "performing math on arrays"
   ]
  }
 ],
 "metadata": {
  "kernelspec": {
   "display_name": "Python 3",
   "language": "python",
   "name": "python3"
  },
  "language_info": {
   "codemirror_mode": {
    "name": "ipython",
    "version": 3
   },
   "file_extension": ".py",
   "mimetype": "text/x-python",
   "name": "python",
   "nbconvert_exporter": "python",
   "pygments_lexer": "ipython3",
   "version": "3.7.0"
  }
 },
 "nbformat": 4,
 "nbformat_minor": 2
}
