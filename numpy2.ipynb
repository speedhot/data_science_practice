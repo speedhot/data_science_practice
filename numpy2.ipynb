{
 "cells": [
  {
   "cell_type": "markdown",
   "metadata": {},
   "source": [
    "# numpy session 2"
   ]
  },
  {
   "cell_type": "code",
   "execution_count": 3,
   "metadata": {},
   "outputs": [
    {
     "name": "stdout",
     "output_type": "stream",
     "text": [
      "[300, 100, 50, 30, 20, 40]\n"
     ]
    }
   ],
   "source": [
    "fix_salary=[300,100,50]\n",
    "variable_salary=[30,20,40]\n",
    "total=fix_salary+variable_salary\n",
    "print(total) #this not the result we are looking for"
   ]
  },
  {
   "cell_type": "code",
   "execution_count": null,
   "metadata": {},
   "outputs": [],
   "source": []
  },
  {
   "cell_type": "code",
   "execution_count": 4,
   "metadata": {},
   "outputs": [
    {
     "name": "stdout",
     "output_type": "stream",
     "text": [
      "Total [330 120  90]\n"
     ]
    }
   ],
   "source": [
    "import numpy as np\n",
    "fx_sl=np.array(fix_salary)\n",
    "v_sl=np.array(variable_salary)\n",
    "now_total=fx_sl+v_sl\n",
    "print(\"Total\",now_total)  #this is the result is we were looking for"
   ]
  },
  {
   "cell_type": "code",
   "execution_count": null,
   "metadata": {},
   "outputs": [],
   "source": []
  },
  {
   "cell_type": "code",
   "execution_count": null,
   "metadata": {},
   "outputs": [],
   "source": []
  },
  {
   "cell_type": "code",
   "execution_count": 6,
   "metadata": {},
   "outputs": [
    {
     "data": {
      "text/plain": [
       "array([ True, False, False])"
      ]
     },
     "execution_count": 6,
     "metadata": {},
     "output_type": "execute_result"
    }
   ],
   "source": [
    "#Broadcasting\n",
    "now_total>200   #can peform any math and logical orperation"
   ]
  },
  {
   "cell_type": "code",
   "execution_count": 17,
   "metadata": {},
   "outputs": [
    {
     "data": {
      "text/plain": [
       "array([330])"
      ]
     },
     "execution_count": 17,
     "metadata": {},
     "output_type": "execute_result"
    }
   ],
   "source": [
    "#boolean indexing\n",
    "now_total[now_total>200 ] "
   ]
  },
  {
   "cell_type": "markdown",
   "metadata": {},
   "source": [
    "## numpy arrays are always homogeneous in nature"
   ]
  },
  {
   "cell_type": "code",
   "execution_count": 16,
   "metadata": {},
   "outputs": [
    {
     "name": "stdout",
     "output_type": "stream",
     "text": [
      "Result is in Float [4. 8. 5.]\n"
     ]
    },
    {
     "data": {
      "text/plain": [
       "array(['True', 'b', '5.0'], dtype='<U5')"
      ]
     },
     "execution_count": 16,
     "metadata": {},
     "output_type": "execute_result"
    }
   ],
   "source": [
    "#upcasting\n",
    "print(\"Result is in Float\",np.array([True,3,5.0])+np.array([3,5,False]) ) # #upcasting towrds the biggest one\n",
    "#String>Float>Int>Boolean\n",
    "\n",
    "#\n",
    "np.array([True,'b',5.0])  #all will be in string as the top most is string in between   i.e to <U45"
   ]
  },
  {
   "cell_type": "code",
   "execution_count": 5,
   "metadata": {},
   "outputs": [
    {
     "name": "stdout",
     "output_type": "stream",
     "text": [
      "Original matrix\n",
      " [[180 162  13  25 121]\n",
      " [124  76  29  72 187]\n",
      " [142  63 145 111 158]\n",
      " [ 78   5   1  17  41]\n",
      " [ 55 146 112  77 125]]\n",
      "Sorted according to default axis:\n",
      " [[ 13  25 121 162 180]\n",
      " [ 29  72  76 124 187]\n",
      " [ 63 111 142 145 158]\n",
      " [  1   5  17  41  78]\n",
      " [ 55  77 112 125 146]]\n",
      "Sorted according to column wise\n",
      " [[ 55   5   1  17  41]\n",
      " [ 78  63  13  25 121]\n",
      " [124  76  29  72 125]\n",
      " [142 146 112  77 158]\n",
      " [180 162 145 111 187]]\n",
      "Using quicksot along row\n",
      " [[ 13  25 121 162 180]\n",
      " [ 29  72  76 124 187]\n",
      " [ 63 111 142 145 158]\n",
      " [  1   5  17  41  78]\n",
      " [ 55  77 112 125 146]]\n"
     ]
    }
   ],
   "source": [
    "from numpy.random import randint as ri\n",
    "m=ri(1,200,25)\n",
    "z=m.reshape(5,5)\n",
    "print('Original matrix\\n', z)\n",
    "print(\"Sorted according to default axis:\\n\",np.sort(z))   # defaut axis=1 i.e row-wise sort \n",
    "print(\"Sorted according to column wise\\n\",np.sort(z, axis=0))    \n",
    "print(\"Using quicksot along row\\n\",np.sort(z, kind=\"quicksort\"))\n",
    "# kind\t      speed\t worstcase\twork space\tstable\n",
    "# ‘quicksort’\t1\tO(n^2)\t0\tno\n",
    "# ‘mergesort’\t2\tO(n*log(n))\t~n/2\tyes\n",
    "# ‘heapsort’\t3\tO(n*log(n))\t0\tno"
   ]
  },
  {
   "cell_type": "code",
   "execution_count": null,
   "metadata": {},
   "outputs": [],
   "source": []
  },
  {
   "cell_type": "code",
   "execution_count": 7,
   "metadata": {},
   "outputs": [
    {
     "name": "stdout",
     "output_type": "stream",
     "text": [
      "[[ 76 187]\n",
      " [ 63 158]]\n"
     ]
    }
   ],
   "source": [
    "print(z[1:3,[1,4]])"
   ]
  },
  {
   "cell_type": "markdown",
   "metadata": {},
   "source": [
    "### Subseting"
   ]
  },
  {
   "cell_type": "code",
   "execution_count": 17,
   "metadata": {},
   "outputs": [
    {
     "name": "stdout",
     "output_type": "stream",
     "text": [
      "[[50 87 52 97 25]\n",
      " [39 71 37 81 82]\n",
      " [18 59 79 51 62]\n",
      " [63 50 43 66 37]]\n"
     ]
    }
   ],
   "source": [
    "import numpy as np\n",
    "from numpy.random import randint as ri\n",
    "m=np.array(ri(10,100,20)).reshape(4,5)\n",
    "print(m)"
   ]
  },
  {
   "cell_type": "code",
   "execution_count": 21,
   "metadata": {},
   "outputs": [
    {
     "data": {
      "text/plain": [
       "array([[False,  True,  True,  True, False],\n",
       "       [False,  True, False,  True,  True],\n",
       "       [False,  True,  True,  True,  True],\n",
       "       [ True, False, False,  True, False]])"
      ]
     },
     "execution_count": 21,
     "metadata": {},
     "output_type": "execute_result"
    }
   ],
   "source": [
    "#boolean operation\n",
    "#broadcasting\n",
    "m>50   "
   ]
  },
  {
   "cell_type": "code",
   "execution_count": 22,
   "metadata": {},
   "outputs": [
    {
     "data": {
      "text/plain": [
       "array([[100, 137, 102, 147,  75],\n",
       "       [ 89, 121,  87, 131, 132],\n",
       "       [ 68, 109, 129, 101, 112],\n",
       "       [113, 100,  93, 116,  87]])"
      ]
     },
     "execution_count": 22,
     "metadata": {},
     "output_type": "execute_result"
    }
   ],
   "source": [
    "m+50"
   ]
  },
  {
   "cell_type": "code",
   "execution_count": 23,
   "metadata": {},
   "outputs": [
    {
     "data": {
      "text/plain": [
       "array([87, 52, 97, 71, 81, 82, 59, 79, 51, 62, 63, 66])"
      ]
     },
     "execution_count": 23,
     "metadata": {},
     "output_type": "execute_result"
    }
   ],
   "source": [
    "m[m>50]   #>50 from m"
   ]
  },
  {
   "cell_type": "code",
   "execution_count": 39,
   "metadata": {},
   "outputs": [
    {
     "name": "stdout",
     "output_type": "stream",
     "text": [
      "[ True  True  True  True]\n",
      "[False  True False  True]\n",
      "[23. 67.]\n"
     ]
    }
   ],
   "source": [
    "my_house=np.array([18.0,23.0,34,67])\n",
    "your_house=np.array([28.0,33.0,14,77])\n",
    "\n",
    "#logical and / or operations of numpy\n",
    "print(np.logical_or(my_house>10, your_house<10))\n",
    "print(np.logical_and(my_house>20, your_house>20))\n",
    "# can index it also\n",
    "print(my_house[np.logical_and(my_house>20, your_house>20)])  #it would provide value only Ture places"
   ]
  },
  {
   "cell_type": "code",
   "execution_count": 34,
   "metadata": {},
   "outputs": [
    {
     "name": "stdout",
     "output_type": "stream",
     "text": [
      "[ True  True  True  True]\n",
      "[False  True False  True]\n"
     ]
    }
   ],
   "source": [
    "#can do like also\n",
    "print((my_house>10) | (your_house<10))\n",
    "print((my_house>20) & (your_house>20))\n",
    "\n",
    "\n",
    "# in python &----and\n",
    "# &&---is bitwise and"
   ]
  },
  {
   "cell_type": "code",
   "execution_count": 37,
   "metadata": {},
   "outputs": [
    {
     "name": "stdout",
     "output_type": "stream",
     "text": [
      "50\n",
      "87\n",
      "52\n",
      "97\n",
      "25\n",
      "39\n",
      "71\n",
      "37\n",
      "81\n",
      "82\n",
      "18\n",
      "59\n",
      "79\n",
      "51\n",
      "62\n",
      "63\n",
      "50\n",
      "43\n",
      "66\n",
      "37\n"
     ]
    }
   ],
   "source": [
    "for x in np.nditer(m):  #iterate through 2D array\n",
    "    print(x)"
   ]
  }
 ],
 "metadata": {
  "kernelspec": {
   "display_name": "Python 3",
   "language": "python",
   "name": "python3"
  },
  "language_info": {
   "codemirror_mode": {
    "name": "ipython",
    "version": 3
   },
   "file_extension": ".py",
   "mimetype": "text/x-python",
   "name": "python",
   "nbconvert_exporter": "python",
   "pygments_lexer": "ipython3",
   "version": "3.7.0"
  }
 },
 "nbformat": 4,
 "nbformat_minor": 2
}
